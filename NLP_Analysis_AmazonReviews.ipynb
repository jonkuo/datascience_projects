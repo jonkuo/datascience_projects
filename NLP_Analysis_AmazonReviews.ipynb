{
 "cells": [
  {
   "cell_type": "markdown",
   "metadata": {},
   "source": [
    "# Amazon Reviews of Beauty Products: \n",
    "\n",
    "## Sentiment Analysis, Topic Modelling, and Classification of Reviews by Rating"
   ]
  },
  {
   "cell_type": "markdown",
   "metadata": {},
   "source": [
    "### Dataset from http://jmcauley.ucsd.edu/data/amazon/ \n",
    "\n",
    "> ### 198,502 Amazon ratings and reviews from May 1996 - July 2014."
   ]
  },
  {
   "cell_type": "code",
   "execution_count": 157,
   "metadata": {
    "collapsed": false
   },
   "outputs": [
    {
     "name": "stderr",
     "output_type": "stream",
     "text": [
      "/Users/helloaoi/anaconda/lib/python3.5/site-packages/sklearn/cross_validation.py:44: DeprecationWarning: This module was deprecated in version 0.18 in favor of the model_selection module into which all the refactored classes and functions are moved. Also note that the interface of the new CV iterators are different from that of this module. This module will be removed in 0.20.\n",
      "  \"This module will be removed in 0.20.\", DeprecationWarning)\n",
      "/Users/helloaoi/anaconda/lib/python3.5/site-packages/sklearn/grid_search.py:43: DeprecationWarning: This module was deprecated in version 0.18 in favor of the model_selection module into which all the refactored classes and functions are moved. This module will be removed in 0.20.\n",
      "  DeprecationWarning)\n"
     ]
    }
   ],
   "source": [
    "import pandas as pd\n",
    "import numpy as np\n",
    "import gzip\n",
    "import re\n",
    "import string\n",
    "from string import digits\n",
    "from textblob import TextBlob\n",
    "import seaborn as ssn\n",
    "from wordcloud import WordCloud\n",
    "from sklearn.feature_extraction.text import CountVectorizer, TfidfVectorizer\n",
    "from sklearn.decomposition import LatentDirichletAllocation\n",
    "from sklearn.model_selection import train_test_split, cross_val_score\n",
    "from textblob.classifiers import NaiveBayesClassifier\n",
    "from sklearn.naive_bayes import MultinomialNB, BernoulliNB\n",
    "from sklearn.metrics import precision_score, recall_score, f1_score, confusion_matrix\n",
    "from sklearn.linear_model import LogisticRegression, LinearRegression\n",
    "from sklearn.cluster import KMeans\n",
    "from sklearn.svm import SVC\n",
    "from statsmodels.graphics.correlation import plot_corr\n",
    "from sklearn.grid_search import GridSearchCV"
   ]
  },
  {
   "cell_type": "code",
   "execution_count": 3,
   "metadata": {
    "collapsed": false
   },
   "outputs": [
    {
     "name": "stdout",
     "output_type": "stream",
     "text": [
      "Populating the interactive namespace from numpy and matplotlib\n"
     ]
    }
   ],
   "source": [
    "%pylab inline"
   ]
  },
  {
   "cell_type": "code",
   "execution_count": 4,
   "metadata": {
    "collapsed": true
   },
   "outputs": [],
   "source": [
    "def show_confusion_matrix(C,class_labels=['0','1']):\n",
    "    #From text classification solutions\n",
    "    \"\"\"\n",
    "    C: ndarray, shape (2,2) as given by scikit-learn confusion_matrix function\n",
    "    class_labels: list of strings, default simply labels 0 and 1.\n",
    "\n",
    "    Draws confusion matrix with associated metrics.\n",
    "    Source: http://notmatthancock.github.io/2015/10/28/confusion-matrix.html\n",
    "    \"\"\"\n",
    "    import matplotlib.pyplot as plt\n",
    "    import numpy as np\n",
    "    \n",
    "    assert C.shape == (2,2), \"Confusion matrix should be from binary classification only.\"\n",
    "    \n",
    "    # true negative, false positive, etc...\n",
    "    tn = C[0,0]; fp = C[0,1]; fn = C[1,0]; tp = C[1,1];\n",
    "\n",
    "    NP = fn+tp # Num positive examples\n",
    "    NN = tn+fp # Num negative examples\n",
    "    N  = NP+NN\n",
    "\n",
    "    fig = plt.figure(figsize=(8,8))\n",
    "    ax  = fig.add_subplot(111)\n",
    "    ax.imshow(C, interpolation='nearest', cmap=plt.cm.gray)\n",
    "\n",
    "    # Draw the grid boxes\n",
    "    ax.set_xlim(-0.5,2.5)\n",
    "    ax.set_ylim(2.5,-0.5)\n",
    "    ax.plot([-0.5,2.5],[0.5,0.5], '-k', lw=2)\n",
    "    ax.plot([-0.5,2.5],[1.5,1.5], '-k', lw=2)\n",
    "    ax.plot([0.5,0.5],[-0.5,2.5], '-k', lw=2)\n",
    "    ax.plot([1.5,1.5],[-0.5,2.5], '-k', lw=2)\n",
    "\n",
    "    # Set xlabels\n",
    "    ax.set_xlabel('Predicted Label', fontsize=16)\n",
    "    ax.set_xticks([0,1,2])\n",
    "    ax.set_xticklabels(class_labels + [''])\n",
    "    ax.xaxis.set_label_position('top')\n",
    "    ax.xaxis.tick_top()\n",
    "    # These coordinate might require some tinkering. Ditto for y, below.\n",
    "    ax.xaxis.set_label_coords(0.34,1.06)\n",
    "\n",
    "    # Set ylabels\n",
    "    ax.set_ylabel('True Label', fontsize=16, rotation=90)\n",
    "    ax.set_yticklabels(class_labels + [''],rotation=90)\n",
    "    ax.set_yticks([0,1,2])\n",
    "    ax.yaxis.set_label_coords(-0.09,0.65)\n",
    "\n",
    "\n",
    "    # Fill in initial metrics: tp, tn, etc...\n",
    "    ax.text(0,0,\n",
    "            'True Neg: %d\\n(Num Neg: %d)'%(tn,NN),\n",
    "            va='center',\n",
    "            ha='center',\n",
    "            bbox=dict(fc='w',boxstyle='round,pad=1'))\n",
    "\n",
    "    ax.text(0,1,\n",
    "            'False Neg: %d'%fn,\n",
    "            va='center',\n",
    "            ha='center',\n",
    "            bbox=dict(fc='w',boxstyle='round,pad=1'))\n",
    "\n",
    "    ax.text(1,0,\n",
    "            'False Pos: %d'%fp,\n",
    "            va='center',\n",
    "            ha='center',\n",
    "            bbox=dict(fc='w',boxstyle='round,pad=1'))\n",
    "\n",
    "\n",
    "    ax.text(1,1,\n",
    "            'True Pos: %d\\n(Num Pos: %d)'%(tp,NP),\n",
    "            va='center',\n",
    "            ha='center',\n",
    "            bbox=dict(fc='w',boxstyle='round,pad=1'))\n",
    "\n",
    "    # Fill in secondary metrics: accuracy, true pos rate, etc...\n",
    "    ax.text(2,0,\n",
    "            'False Pos Rate: %.2f'%(fp / (fp+tn+0.)),\n",
    "            va='center',\n",
    "            ha='center',\n",
    "            bbox=dict(fc='w',boxstyle='round,pad=1'))\n",
    "\n",
    "    ax.text(2,1,\n",
    "            'True Pos Rate: %.2f'%(tp / (tp+fn+0.)),\n",
    "            va='center',\n",
    "            ha='center',\n",
    "            bbox=dict(fc='w',boxstyle='round,pad=1'))\n",
    "\n",
    "    ax.text(2,2,\n",
    "            'Accuracy: %.2f'%((tp+tn+0.)/N),\n",
    "            va='center',\n",
    "            ha='center',\n",
    "            bbox=dict(fc='w',boxstyle='round,pad=1'))\n",
    "\n",
    "    ax.text(0,2,\n",
    "            'Neg Pre Val: %.2f'%(1-fn/(fn+tn+0.)),\n",
    "            va='center',\n",
    "            ha='center',\n",
    "            bbox=dict(fc='w',boxstyle='round,pad=1'))\n",
    "\n",
    "    ax.text(1,2,\n",
    "            'Pos Pred Val: %.2f'%(tp/(tp+fp+0.)),\n",
    "            va='center',\n",
    "            ha='center',\n",
    "            bbox=dict(fc='w',boxstyle='round,pad=1'))\n",
    "\n",
    "\n",
    "    plt.tight_layout()\n",
    "    plt.show()"
   ]
  },
  {
   "cell_type": "code",
   "execution_count": 5,
   "metadata": {
    "collapsed": true
   },
   "outputs": [],
   "source": [
    "def parse(path):\n",
    "    g = gzip.open(path, 'rb')\n",
    "    for l in g:\n",
    "        yield eval(l)\n",
    "\n",
    "def getDF(path):\n",
    "    i = 0\n",
    "    df = {}\n",
    "    for d in parse(path):\n",
    "        df[i] = d\n",
    "        i += 1\n",
    "    return pd.DataFrame.from_dict(df, orient='index')\n",
    "\n",
    "df = getDF('reviews_Beauty_5.json.gz')"
   ]
  },
  {
   "cell_type": "markdown",
   "metadata": {},
   "source": [
    "## EDA / Data Preprocessing"
   ]
  },
  {
   "cell_type": "code",
   "execution_count": 6,
   "metadata": {
    "collapsed": false
   },
   "outputs": [],
   "source": [
    "df.reviewText = df.reviewText.str.lower() #lowercase\n",
    "df['reviewText_clean'] = df['reviewText'].apply(lambda x:''.join([i for i in x \n",
    "                                                  if i not in string.punctuation])) #remove punctuation\n",
    "remove_digits = str.maketrans('', '', digits)\n",
    "df['reviewText_clean'] = df['reviewText_clean'].apply(lambda x: x.translate(remove_digits)) #remove digits"
   ]
  },
  {
   "cell_type": "code",
   "execution_count": 7,
   "metadata": {
    "collapsed": false
   },
   "outputs": [],
   "source": [
    "df['helpful_rate'] = [0 if i[1] == 0 else i[0]/i[1] for i in df.helpful]"
   ]
  },
  {
   "cell_type": "code",
   "execution_count": 8,
   "metadata": {
    "collapsed": false,
    "scrolled": false
   },
   "outputs": [
    {
     "data": {
      "text/html": [
       "<div>\n",
       "<table border=\"1\" class=\"dataframe\">\n",
       "  <thead>\n",
       "    <tr style=\"text-align: right;\">\n",
       "      <th></th>\n",
       "      <th>reviewTime</th>\n",
       "      <th>reviewerID</th>\n",
       "      <th>overall</th>\n",
       "      <th>asin</th>\n",
       "      <th>summary</th>\n",
       "      <th>unixReviewTime</th>\n",
       "      <th>reviewText</th>\n",
       "      <th>helpful</th>\n",
       "      <th>reviewerName</th>\n",
       "      <th>reviewText_clean</th>\n",
       "      <th>helpful_rate</th>\n",
       "    </tr>\n",
       "  </thead>\n",
       "  <tbody>\n",
       "    <tr>\n",
       "      <th>0</th>\n",
       "      <td>01 30, 2014</td>\n",
       "      <td>A1YJEY40YUW4SE</td>\n",
       "      <td>1.0</td>\n",
       "      <td>7806397051</td>\n",
       "      <td>Don't waste your money</td>\n",
       "      <td>1391040000</td>\n",
       "      <td>very oily and creamy. not at all what i expect...</td>\n",
       "      <td>[3, 4]</td>\n",
       "      <td>Andrea</td>\n",
       "      <td>very oily and creamy not at all what i expecte...</td>\n",
       "      <td>0.75</td>\n",
       "    </tr>\n",
       "    <tr>\n",
       "      <th>1</th>\n",
       "      <td>04 18, 2014</td>\n",
       "      <td>A60XNB876KYML</td>\n",
       "      <td>3.0</td>\n",
       "      <td>7806397051</td>\n",
       "      <td>OK Palette!</td>\n",
       "      <td>1397779200</td>\n",
       "      <td>this palette was a decent price and i was look...</td>\n",
       "      <td>[1, 1]</td>\n",
       "      <td>Jessica H.</td>\n",
       "      <td>this palette was a decent price and i was look...</td>\n",
       "      <td>1.00</td>\n",
       "    </tr>\n",
       "    <tr>\n",
       "      <th>2</th>\n",
       "      <td>09 6, 2013</td>\n",
       "      <td>A3G6XNM240RMWA</td>\n",
       "      <td>4.0</td>\n",
       "      <td>7806397051</td>\n",
       "      <td>great quality</td>\n",
       "      <td>1378425600</td>\n",
       "      <td>the texture of this concealer pallet is fantas...</td>\n",
       "      <td>[0, 1]</td>\n",
       "      <td>Karen</td>\n",
       "      <td>the texture of this concealer pallet is fantas...</td>\n",
       "      <td>0.00</td>\n",
       "    </tr>\n",
       "    <tr>\n",
       "      <th>3</th>\n",
       "      <td>12 8, 2013</td>\n",
       "      <td>A1PQFP6SAJ6D80</td>\n",
       "      <td>2.0</td>\n",
       "      <td>7806397051</td>\n",
       "      <td>Do not work on my face</td>\n",
       "      <td>1386460800</td>\n",
       "      <td>i really can't tell what exactly this thing is...</td>\n",
       "      <td>[2, 2]</td>\n",
       "      <td>Norah</td>\n",
       "      <td>i really cant tell what exactly this thing is ...</td>\n",
       "      <td>1.00</td>\n",
       "    </tr>\n",
       "    <tr>\n",
       "      <th>4</th>\n",
       "      <td>10 19, 2013</td>\n",
       "      <td>A38FVHZTNQ271F</td>\n",
       "      <td>3.0</td>\n",
       "      <td>7806397051</td>\n",
       "      <td>It's okay.</td>\n",
       "      <td>1382140800</td>\n",
       "      <td>it was a little smaller than i expected, but t...</td>\n",
       "      <td>[0, 0]</td>\n",
       "      <td>Nova Amor</td>\n",
       "      <td>it was a little smaller than i expected but th...</td>\n",
       "      <td>0.00</td>\n",
       "    </tr>\n",
       "  </tbody>\n",
       "</table>\n",
       "</div>"
      ],
      "text/plain": [
       "    reviewTime      reviewerID  overall        asin                 summary  \\\n",
       "0  01 30, 2014  A1YJEY40YUW4SE      1.0  7806397051  Don't waste your money   \n",
       "1  04 18, 2014   A60XNB876KYML      3.0  7806397051             OK Palette!   \n",
       "2   09 6, 2013  A3G6XNM240RMWA      4.0  7806397051           great quality   \n",
       "3   12 8, 2013  A1PQFP6SAJ6D80      2.0  7806397051  Do not work on my face   \n",
       "4  10 19, 2013  A38FVHZTNQ271F      3.0  7806397051              It's okay.   \n",
       "\n",
       "   unixReviewTime                                         reviewText helpful  \\\n",
       "0      1391040000  very oily and creamy. not at all what i expect...  [3, 4]   \n",
       "1      1397779200  this palette was a decent price and i was look...  [1, 1]   \n",
       "2      1378425600  the texture of this concealer pallet is fantas...  [0, 1]   \n",
       "3      1386460800  i really can't tell what exactly this thing is...  [2, 2]   \n",
       "4      1382140800  it was a little smaller than i expected, but t...  [0, 0]   \n",
       "\n",
       "  reviewerName                                   reviewText_clean  \\\n",
       "0       Andrea  very oily and creamy not at all what i expecte...   \n",
       "1   Jessica H.  this palette was a decent price and i was look...   \n",
       "2        Karen  the texture of this concealer pallet is fantas...   \n",
       "3        Norah  i really cant tell what exactly this thing is ...   \n",
       "4    Nova Amor  it was a little smaller than i expected but th...   \n",
       "\n",
       "   helpful_rate  \n",
       "0          0.75  \n",
       "1          1.00  \n",
       "2          0.00  \n",
       "3          1.00  \n",
       "4          0.00  "
      ]
     },
     "execution_count": 8,
     "metadata": {},
     "output_type": "execute_result"
    }
   ],
   "source": [
    "df.head()"
   ]
  },
  {
   "cell_type": "code",
   "execution_count": 95,
   "metadata": {
    "collapsed": false
   },
   "outputs": [],
   "source": [
    "df[\"review_length\"] = [len(i) for i in df.reviewText_clean]"
   ]
  },
  {
   "cell_type": "code",
   "execution_count": 118,
   "metadata": {
    "collapsed": false,
    "scrolled": true
   },
   "outputs": [
    {
     "name": "stderr",
     "output_type": "stream",
     "text": [
      "/Users/helloaoi/anaconda/lib/python3.5/site-packages/statsmodels/nonparametric/kdetools.py:20: VisibleDeprecationWarning: using a non-integer number instead of an integer will result in an error in the future\n",
      "  y = X[:m/2+1] + np.r_[0,X[m/2+1:],0]*1j\n"
     ]
    },
    {
     "data": {
      "text/plain": [
       "<matplotlib.axes._subplots.AxesSubplot at 0x1623cc828>"
      ]
     },
     "execution_count": 118,
     "metadata": {},
     "output_type": "execute_result"
    },
    {
     "data": {
      "image/png": "[encoded data removed]",
      "text/plain": [
       "<matplotlib.figure.Figure at 0x1625a74e0>"
      ]
     },
     "metadata": {},
     "output_type": "display_data"
    }
   ],
   "source": [
    "ssn.distplot(df[df.overall == 1.0][\"review_length\"])"
   ]
  },
  {
   "cell_type": "code",
   "execution_count": 117,
   "metadata": {
    "collapsed": false,
    "scrolled": true
   },
   "outputs": [
    {
     "name": "stderr",
     "output_type": "stream",
     "text": [
      "/Users/helloaoi/anaconda/lib/python3.5/site-packages/statsmodels/nonparametric/kdetools.py:20: VisibleDeprecationWarning: using a non-integer number instead of an integer will result in an error in the future\n",
      "  y = X[:m/2+1] + np.r_[0,X[m/2+1:],0]*1j\n"
     ]
    },
    {
     "data": {
      "image/png": "[encoded data removed]",
      "text/plain": [
       "<matplotlib.figure.Figure at 0x161191160>"
      ]
     },
     "metadata": {},
     "output_type": "display_data"
    }
   ],
   "source": [
    "ssn.distplot(df[df.overall == 5.0][\"review_length\"]);"
   ]
  },
  {
   "cell_type": "code",
   "execution_count": 119,
   "metadata": {
    "collapsed": false,
    "scrolled": true
   },
   "outputs": [
    {
     "name": "stderr",
     "output_type": "stream",
     "text": [
      "/Users/helloaoi/anaconda/lib/python3.5/site-packages/statsmodels/nonparametric/kdetools.py:20: VisibleDeprecationWarning: using a non-integer number instead of an integer will result in an error in the future\n",
      "  y = X[:m/2+1] + np.r_[0,X[m/2+1:],0]*1j\n"
     ]
    },
    {
     "data": {
      "text/plain": [
       "<matplotlib.axes._subplots.AxesSubplot at 0x166e30048>"
      ]
     },
     "execution_count": 119,
     "metadata": {},
     "output_type": "execute_result"
    },
    {
     "data": {
      "image/png": "[encoded data removed]",
      "text/plain": [
       "<matplotlib.figure.Figure at 0x166e13a90>"
      ]
     },
     "metadata": {},
     "output_type": "display_data"
    }
   ],
   "source": [
    "ssn.distplot(df[df.overall == 2.0][\"review_length\"])"
   ]
  },
  {
   "cell_type": "code",
   "execution_count": 115,
   "metadata": {
    "collapsed": false,
    "scrolled": false
   },
   "outputs": [
    {
     "name": "stderr",
     "output_type": "stream",
     "text": [
      "/Users/helloaoi/anaconda/lib/python3.5/site-packages/statsmodels/nonparametric/kdetools.py:20: VisibleDeprecationWarning: using a non-integer number instead of an integer will result in an error in the future\n",
      "  y = X[:m/2+1] + np.r_[0,X[m/2+1:],0]*1j\n"
     ]
    },
    {
     "data": {
      "text/plain": [
       "<matplotlib.axes._subplots.AxesSubplot at 0x124e17dd8>"
      ]
     },
     "execution_count": 115,
     "metadata": {},
     "output_type": "execute_result"
    },
    {
     "data": {
      "image/png": "[encoded data removed]",
      "text/plain": [
       "<matplotlib.figure.Figure at 0x16be41780>"
      ]
     },
     "metadata": {},
     "output_type": "display_data"
    }
   ],
   "source": [
    "ssn.distplot(df[df.overall == 3.0][\"review_length\"])"
   ]
  },
  {
   "cell_type": "code",
   "execution_count": 120,
   "metadata": {
    "collapsed": false
   },
   "outputs": [
    {
     "name": "stderr",
     "output_type": "stream",
     "text": [
      "/Users/helloaoi/anaconda/lib/python3.5/site-packages/statsmodels/nonparametric/kdetools.py:20: VisibleDeprecationWarning: using a non-integer number instead of an integer will result in an error in the future\n",
      "  y = X[:m/2+1] + np.r_[0,X[m/2+1:],0]*1j\n"
     ]
    },
    {
     "data": {
      "text/plain": [
       "<matplotlib.axes._subplots.AxesSubplot at 0x16696d908>"
      ]
     },
     "execution_count": 120,
     "metadata": {},
     "output_type": "execute_result"
    },
    {
     "data": {
      "image/png": "[encoded data removed]",
      "text/plain": [
       "<matplotlib.figure.Figure at 0x1669c8dd8>"
      ]
     },
     "metadata": {},
     "output_type": "display_data"
    }
   ],
   "source": [
    "ssn.distplot(df[df.overall == 4.0][\"review_length\"])"
   ]
  },
  {
   "cell_type": "code",
   "execution_count": 101,
   "metadata": {
    "collapsed": false,
    "scrolled": true
   },
   "outputs": [
    {
     "name": "stdout",
     "output_type": "stream",
     "text": [
      "Mean length of reviews: 456.3419713655278\n",
      "Median length of reviews: 299.0\n"
     ]
    }
   ],
   "source": [
    "print(\"Mean length of reviews:\", df.review_length.mean())\n",
    "print(\"Median length of reviews:\", df.review_length.median())"
   ]
  },
  {
   "cell_type": "code",
   "execution_count": 9,
   "metadata": {
    "collapsed": false,
    "scrolled": false
   },
   "outputs": [
    {
     "data": {
      "text/plain": [
       "<matplotlib.axes._subplots.AxesSubplot at 0x1267575c0>"
      ]
     },
     "execution_count": 9,
     "metadata": {},
     "output_type": "execute_result"
    },
    {
     "data": {
      "image/png": "[encoded data removed]",
      "text/plain": [
       "<matplotlib.figure.Figure at 0x11dfd2a20>"
      ]
     },
     "metadata": {},
     "output_type": "display_data"
    }
   ],
   "source": [
    "ssn.countplot(df.overall)"
   ]
  },
  {
   "cell_type": "markdown",
   "metadata": {},
   "source": [
    "# Sentiment Analysis"
   ]
  },
  {
   "cell_type": "code",
   "execution_count": 10,
   "metadata": {
    "collapsed": true
   },
   "outputs": [],
   "source": [
    "df['sentiment_labels'] = [1 if rating >= 4 else 0 for rating in df.overall]"
   ]
  },
  {
   "cell_type": "code",
   "execution_count": 133,
   "metadata": {
    "collapsed": true
   },
   "outputs": [],
   "source": [
    "X_train, X_test, y_train, y_test = train_test_split(df.reviewText_clean,df.sentiment_labels, test_size=.2, random_state=42)"
   ]
  },
  {
   "cell_type": "markdown",
   "metadata": {},
   "source": [
    "## CountVectorizer + Multinomial Naive Bayes "
   ]
  },
  {
   "cell_type": "code",
   "execution_count": 134,
   "metadata": {
    "collapsed": true
   },
   "outputs": [],
   "source": [
    "count_vec = CountVectorizer()\n",
    "X_train_count = count_vec.fit_transform(X_train)\n",
    "X_test_count = count_vec.transform(X_test)"
   ]
  },
  {
   "cell_type": "code",
   "execution_count": 135,
   "metadata": {
    "collapsed": false
   },
   "outputs": [
    {
     "data": {
      "text/plain": [
       "MultinomialNB(alpha=1.0, class_prior=None, fit_prior=True)"
      ]
     },
     "execution_count": 135,
     "metadata": {},
     "output_type": "execute_result"
    }
   ],
   "source": [
    "# Create an instance of the Naive Bayes class \n",
    "clf = MultinomialNB()\n",
    "# Call fit method\n",
    "clf.fit(X_train_count, y_train)"
   ]
  },
  {
   "cell_type": "code",
   "execution_count": 14,
   "metadata": {
    "collapsed": false
   },
   "outputs": [
    {
     "name": "stdout",
     "output_type": "stream",
     "text": [
      "Multinomial NB: The precision on the test data is 87.08%\n",
      "Multinomial NB: The recall on the test data is 95.08%\n",
      "Multinomial NB: The F1 on the test data is 90.91%\n"
     ]
    }
   ],
   "source": [
    "precision = precision_score(y_true=y_test,\n",
    "              y_pred=clf.predict(X_test_count))\n",
    "\n",
    "print(\"Multinomial NB: The precision on the test data is {:.2%}\".format(precision))\n",
    "recall = recall_score(y_true=y_test,\n",
    "                      y_pred=clf.predict(X_test_count))\n",
    "\n",
    "print(\"Multinomial NB: The recall on the test data is {:.2%}\".format(recall))\n",
    "f1 = f1_score(y_true=y_test,\n",
    "              y_pred=clf.predict(X_test_count))\n",
    "print(\"Multinomial NB: The F1 on the test data is {:.2%}\".format(f1))"
   ]
  },
  {
   "cell_type": "code",
   "execution_count": 15,
   "metadata": {
    "collapsed": false
   },
   "outputs": [],
   "source": [
    "cm_train = confusion_matrix(y_train, clf.predict(X_train_count))"
   ]
  },
  {
   "cell_type": "code",
   "execution_count": 16,
   "metadata": {
    "collapsed": true
   },
   "outputs": [],
   "source": [
    "cm_test = confusion_matrix(y_test, clf.predict(X_test_count))"
   ]
  },
  {
   "cell_type": "code",
   "execution_count": 17,
   "metadata": {
    "collapsed": false,
    "scrolled": false
   },
   "outputs": [
    {
     "data": {
      "image/png": "[encoded data removed]",
      "text/plain": [
       "<matplotlib.figure.Figure at 0x107459da0>"
      ]
     },
     "metadata": {},
     "output_type": "display_data"
    }
   ],
   "source": [
    "show_confusion_matrix(cm_test,\n",
    "                     class_labels=[\"Negative\", \"Positive\"])"
   ]
  },
  {
   "cell_type": "markdown",
   "metadata": {},
   "source": [
    "## Tf-idf + Multinomial Naive Bayes"
   ]
  },
  {
   "cell_type": "code",
   "execution_count": 190,
   "metadata": {
    "collapsed": true
   },
   "outputs": [],
   "source": [
    "tfidf_vec = TfidfVectorizer(stop_words='english')\n",
    "X_train_count = tfidf_vec.fit_transform(X_train)\n",
    "X_test_count = tfidf_vec.transform(X_test)"
   ]
  },
  {
   "cell_type": "code",
   "execution_count": 19,
   "metadata": {
    "collapsed": false
   },
   "outputs": [
    {
     "data": {
      "text/plain": [
       "MultinomialNB(alpha=1.0, class_prior=None, fit_prior=True)"
      ]
     },
     "execution_count": 19,
     "metadata": {},
     "output_type": "execute_result"
    }
   ],
   "source": [
    "clf2 = MultinomialNB()\n",
    "clf2.fit(X_train_count, y_train)"
   ]
  },
  {
   "cell_type": "code",
   "execution_count": 20,
   "metadata": {
    "collapsed": false
   },
   "outputs": [
    {
     "name": "stdout",
     "output_type": "stream",
     "text": [
      "Multinomial NB: The precision on the test data is 77.88%\n",
      "Multinomial NB: The recall on the test data is 99.96%\n",
      "Multinomial NB: The F1 on the test data is 87.55%\n"
     ]
    }
   ],
   "source": [
    "precision = precision_score(y_true=y_test,\n",
    "              y_pred=clf2.predict(X_test_count))\n",
    "\n",
    "print(\"Multinomial NB: The precision on the test data is {:.2%}\".format(precision))\n",
    "recall = recall_score(y_true=y_test,\n",
    "                      y_pred=clf2.predict(X_test_count))\n",
    "\n",
    "print(\"Multinomial NB: The recall on the test data is {:.2%}\".format(recall))\n",
    "f1 = f1_score(y_true=y_test,\n",
    "              y_pred=clf2.predict(X_test_count))\n",
    "print(\"Multinomial NB: The F1 on the test data is {:.2%}\".format(f1))"
   ]
  },
  {
   "cell_type": "code",
   "execution_count": 21,
   "metadata": {
    "collapsed": true
   },
   "outputs": [],
   "source": [
    "cm_train = confusion_matrix(y_train, clf2.predict(X_train_count))\n",
    "cm_test = confusion_matrix(y_test, clf2.predict(X_test_count))"
   ]
  },
  {
   "cell_type": "code",
   "execution_count": 22,
   "metadata": {
    "collapsed": false,
    "scrolled": false
   },
   "outputs": [
    {
     "data": {
      "image/png": "[encoded data removed]",
      "text/plain": [
       "<matplotlib.figure.Figure at 0x11f137a58>"
      ]
     },
     "metadata": {},
     "output_type": "display_data"
    }
   ],
   "source": [
    "show_confusion_matrix(cm_test,\n",
    "                     class_labels=[\"Negative\", \"Positive\"])"
   ]
  },
  {
   "cell_type": "markdown",
   "metadata": {},
   "source": [
    "> ### CountVectorizer yielded better 10% better precision and a 3% better F1 score. Maybe there are key words that appear frequently across all reviews that are useful in predicting sentiment."
   ]
  },
  {
   "cell_type": "markdown",
   "metadata": {},
   "source": [
    "## Sentiment Analysis Logistic Regression"
   ]
  },
  {
   "cell_type": "code",
   "execution_count": 191,
   "metadata": {
    "collapsed": true
   },
   "outputs": [],
   "source": [
    "lr1 = LogisticRegression(penalty='l1')\n",
    "lr2 = LogisticRegression(penalty='l2')"
   ]
  },
  {
   "cell_type": "code",
   "execution_count": 192,
   "metadata": {
    "collapsed": false
   },
   "outputs": [
    {
     "name": "stderr",
     "output_type": "stream",
     "text": [
      "/Users/helloaoi/anaconda/lib/python3.5/site-packages/sklearn/utils/deprecation.py:70: DeprecationWarning: Function transform is deprecated; Support to use estimators as feature selectors will be removed in version 0.19. Use SelectFromModel instead.\n",
      "  warnings.warn(msg, category=DeprecationWarning)\n"
     ]
    },
    {
     "data": {
      "text/plain": [
       "<158801x5494 sparse matrix of type '<class 'numpy.float64'>'\n",
       "\twith 4624550 stored elements in Compressed Sparse Column format>"
      ]
     },
     "execution_count": 192,
     "metadata": {},
     "output_type": "execute_result"
    }
   ],
   "source": [
    "lr1.fit_transform(X_train_count, y_train)"
   ]
  },
  {
   "cell_type": "code",
   "execution_count": 193,
   "metadata": {
    "collapsed": false
   },
   "outputs": [
    {
     "name": "stderr",
     "output_type": "stream",
     "text": [
      "/Users/helloaoi/anaconda/lib/python3.5/site-packages/sklearn/utils/deprecation.py:70: DeprecationWarning: Function transform is deprecated; Support to use estimators as feature selectors will be removed in version 0.19. Use SelectFromModel instead.\n",
      "  warnings.warn(msg, category=DeprecationWarning)\n"
     ]
    },
    {
     "data": {
      "text/plain": [
       "<158801x41209 sparse matrix of type '<class 'numpy.float64'>'\n",
       "\twith 5056719 stored elements in Compressed Sparse Column format>"
      ]
     },
     "execution_count": 193,
     "metadata": {},
     "output_type": "execute_result"
    }
   ],
   "source": [
    "lr2.fit_transform(X_train_count, y_train)"
   ]
  },
  {
   "cell_type": "markdown",
   "metadata": {},
   "source": [
    "# Lasso Regularized"
   ]
  },
  {
   "cell_type": "code",
   "execution_count": 26,
   "metadata": {
    "collapsed": false,
    "scrolled": true
   },
   "outputs": [
    {
     "name": "stdout",
     "output_type": "stream",
     "text": [
      "The precision score is 0.8846733819892635\n",
      "The recall score is 0.9503353095538926\n",
      "The f1 score is 0.916329558766107\n"
     ]
    }
   ],
   "source": [
    "print(\"The precision score is {}\".format(precision_score(y_test, lr1.predict(X_test_count))))\n",
    "print(\"The recall score is {}\".format(recall_score(y_test, lr1.predict(X_test_count))))\n",
    "print(\"The f1 score is {}\".format(f1_score(y_test, lr1.predict(X_test_count))))"
   ]
  },
  {
   "cell_type": "code",
   "execution_count": 27,
   "metadata": {
    "collapsed": true
   },
   "outputs": [],
   "source": [
    "cm_test = confusion_matrix(y_test, lr1.predict(X_test_count))"
   ]
  },
  {
   "cell_type": "code",
   "execution_count": 28,
   "metadata": {
    "collapsed": false
   },
   "outputs": [
    {
     "data": {
      "image/png": "[encoded data removed]",
      "text/plain": [
       "<matplotlib.figure.Figure at 0x1274e21d0>"
      ]
     },
     "metadata": {},
     "output_type": "display_data"
    }
   ],
   "source": [
    "show_confusion_matrix(cm_test,\n",
    "                     class_labels=[\"Negative\", \"Positive\"])"
   ]
  },
  {
   "cell_type": "markdown",
   "metadata": {},
   "source": [
    "# Ridge Regularized"
   ]
  },
  {
   "cell_type": "code",
   "execution_count": 30,
   "metadata": {
    "collapsed": false
   },
   "outputs": [
    {
     "name": "stdout",
     "output_type": "stream",
     "text": [
      "The precision score is 0.8819762396385074\n",
      "The recall score is 0.9548385006641397\n",
      "The f1 score is 0.9169622301039139\n"
     ]
    }
   ],
   "source": [
    "print(\"The precision score is {}\".format(precision_score(y_test, lr2.predict(X_test_count))))\n",
    "print(\"The recall score is {}\".format(recall_score(y_test, lr2.predict(X_test_count))))\n",
    "print(\"The f1 score is {}\".format(f1_score(y_test, lr2.predict(X_test_count))))"
   ]
  },
  {
   "cell_type": "code",
   "execution_count": 31,
   "metadata": {
    "collapsed": false,
    "scrolled": false
   },
   "outputs": [
    {
     "data": {
      "image/png": "[encoded data removed]",
      "text/plain": [
       "<matplotlib.figure.Figure at 0x1274e24e0>"
      ]
     },
     "metadata": {},
     "output_type": "display_data"
    }
   ],
   "source": [
    "cm_test = confusion_matrix(y_test, lr2.predict(X_test_count))\n",
    "show_confusion_matrix(cm_test,\n",
    "                     class_labels=[\"Negative\", \"Positive\"])"
   ]
  },
  {
   "cell_type": "markdown",
   "metadata": {},
   "source": [
    ">Logistic Regression performed just as well as Naive Bayes!"
   ]
  },
  {
   "cell_type": "markdown",
   "metadata": {},
   "source": [
    "## TextBlob NaiveBayes Sentiment Analysis"
   ]
  },
  {
   "cell_type": "code",
   "execution_count": 32,
   "metadata": {
    "collapsed": true
   },
   "outputs": [],
   "source": [
    "from textblob.classifiers import NaiveBayesClassifier"
   ]
  },
  {
   "cell_type": "code",
   "execution_count": 33,
   "metadata": {
    "collapsed": false,
    "scrolled": true
   },
   "outputs": [],
   "source": [
    "df['sentiment_score'] = [TextBlob(i).sentiment.polarity for i in df.reviewText_clean]\n",
    "df['sentiment_score'] = [ 1 if sentiment > 0 else 0 for sentiment in df.sentiment_score]"
   ]
  },
  {
   "cell_type": "code",
   "execution_count": 34,
   "metadata": {
    "collapsed": false
   },
   "outputs": [],
   "source": [
    "X_test_polarity = [TextBlob(text).sentiment.polarity for text in X_test]\n",
    "y_pred = np.asarray([ 1 if polarity > 0 else 0 for polarity in X_test_polarity] )\n"
   ]
  },
  {
   "cell_type": "code",
   "execution_count": 35,
   "metadata": {
    "collapsed": false
   },
   "outputs": [
    {
     "name": "stdout",
     "output_type": "stream",
     "text": [
      "The precision score is 0.8156322227859518\n",
      "The recall score is 0.937473677390093\n",
      "The f1 score is 0.8723189388800964\n"
     ]
    }
   ],
   "source": [
    "print(\"The precision score is {}\".format(precision_score(y_test, y_pred)))\n",
    "print(\"The recall score is {}\".format(recall_score(y_test, y_pred)))\n",
    "print(\"The f1 score is {}\".format(f1_score(y_test, y_pred)))"
   ]
  },
  {
   "cell_type": "code",
   "execution_count": 40,
   "metadata": {
    "collapsed": false,
    "scrolled": false
   },
   "outputs": [
    {
     "data": {
      "image/png": "[encoded data removed]",
      "text/plain": [
       "<matplotlib.figure.Figure at 0x14fca73c8>"
      ]
     },
     "metadata": {},
     "output_type": "display_data"
    }
   ],
   "source": [
    "cm_test = confusion_matrix(y_test, y_pred)\n",
    "show_confusion_matrix(cm_test,\n",
    "                     class_labels=[\"Negative\", \"Positive\"])"
   ]
  },
  {
   "cell_type": "markdown",
   "metadata": {},
   "source": [
    "## Let's take a look at 5 star reviews with negative sentiment"
   ]
  },
  {
   "cell_type": "code",
   "execution_count": 132,
   "metadata": {
    "collapsed": false,
    "scrolled": true
   },
   "outputs": [
    {
     "name": "stderr",
     "output_type": "stream",
     "text": [
      "/Users/helloaoi/anaconda/lib/python3.5/site-packages/ipykernel/__main__.py:1: UserWarning: Boolean Series key will be reindexed to match DataFrame index.\n",
      "  if __name__ == '__main__':\n"
     ]
    },
    {
     "data": {
      "text/plain": [
       "\"i don't really like the smell of this... at all. actually its horrible but it is the one thing that will help scalp build up or dandruff almost immediately so its worth the nasty smell.\""
      ]
     },
     "execution_count": 132,
     "metadata": {},
     "output_type": "execute_result"
    }
   ],
   "source": [
    "df[df.overall == 5.0][df.sentiment_score == 0][\"reviewText\"][346]"
   ]
  },
  {
   "cell_type": "markdown",
   "metadata": {},
   "source": [
    "## Analysis on helpful reviews"
   ]
  },
  {
   "cell_type": "code",
   "execution_count": 41,
   "metadata": {
    "collapsed": true
   },
   "outputs": [],
   "source": [
    "helpful_reviews = df[df.helpful_rate > 0.5]"
   ]
  },
  {
   "cell_type": "code",
   "execution_count": 42,
   "metadata": {
    "collapsed": false
   },
   "outputs": [
    {
     "data": {
      "text/html": [
       "<div>\n",
       "<table border=\"1\" class=\"dataframe\">\n",
       "  <thead>\n",
       "    <tr style=\"text-align: right;\">\n",
       "      <th></th>\n",
       "      <th>reviewTime</th>\n",
       "      <th>reviewerID</th>\n",
       "      <th>overall</th>\n",
       "      <th>asin</th>\n",
       "      <th>summary</th>\n",
       "      <th>unixReviewTime</th>\n",
       "      <th>reviewText</th>\n",
       "      <th>helpful</th>\n",
       "      <th>reviewerName</th>\n",
       "      <th>reviewText_clean</th>\n",
       "      <th>helpful_rate</th>\n",
       "      <th>sentiment_labels</th>\n",
       "      <th>sentiment_score</th>\n",
       "    </tr>\n",
       "  </thead>\n",
       "  <tbody>\n",
       "    <tr>\n",
       "      <th>0</th>\n",
       "      <td>01 30, 2014</td>\n",
       "      <td>A1YJEY40YUW4SE</td>\n",
       "      <td>1.0</td>\n",
       "      <td>7806397051</td>\n",
       "      <td>Don't waste your money</td>\n",
       "      <td>1391040000</td>\n",
       "      <td>very oily and creamy. not at all what i expect...</td>\n",
       "      <td>[3, 4]</td>\n",
       "      <td>Andrea</td>\n",
       "      <td>very oily and creamy not at all what i expecte...</td>\n",
       "      <td>0.750000</td>\n",
       "      <td>0</td>\n",
       "      <td>0</td>\n",
       "    </tr>\n",
       "    <tr>\n",
       "      <th>1</th>\n",
       "      <td>04 18, 2014</td>\n",
       "      <td>A60XNB876KYML</td>\n",
       "      <td>3.0</td>\n",
       "      <td>7806397051</td>\n",
       "      <td>OK Palette!</td>\n",
       "      <td>1397779200</td>\n",
       "      <td>this palette was a decent price and i was look...</td>\n",
       "      <td>[1, 1]</td>\n",
       "      <td>Jessica H.</td>\n",
       "      <td>this palette was a decent price and i was look...</td>\n",
       "      <td>1.000000</td>\n",
       "      <td>0</td>\n",
       "      <td>1</td>\n",
       "    </tr>\n",
       "    <tr>\n",
       "      <th>3</th>\n",
       "      <td>12 8, 2013</td>\n",
       "      <td>A1PQFP6SAJ6D80</td>\n",
       "      <td>2.0</td>\n",
       "      <td>7806397051</td>\n",
       "      <td>Do not work on my face</td>\n",
       "      <td>1386460800</td>\n",
       "      <td>i really can't tell what exactly this thing is...</td>\n",
       "      <td>[2, 2]</td>\n",
       "      <td>Norah</td>\n",
       "      <td>i really cant tell what exactly this thing is ...</td>\n",
       "      <td>1.000000</td>\n",
       "      <td>0</td>\n",
       "      <td>1</td>\n",
       "    </tr>\n",
       "    <tr>\n",
       "      <th>19</th>\n",
       "      <td>09 19, 2011</td>\n",
       "      <td>A1QV5IH6HDRN0L</td>\n",
       "      <td>5.0</td>\n",
       "      <td>9788072216</td>\n",
       "      <td>Love the smell of this!</td>\n",
       "      <td>1316390400</td>\n",
       "      <td>i haven't been a big fan of prada's fragrances...</td>\n",
       "      <td>[24, 24]</td>\n",
       "      <td>armygirl</td>\n",
       "      <td>i havent been a big fan of pradas fragrances o...</td>\n",
       "      <td>1.000000</td>\n",
       "      <td>1</td>\n",
       "      <td>1</td>\n",
       "    </tr>\n",
       "    <tr>\n",
       "      <th>21</th>\n",
       "      <td>11 28, 2011</td>\n",
       "      <td>A2EK2CJNJUF7OQ</td>\n",
       "      <td>5.0</td>\n",
       "      <td>9788072216</td>\n",
       "      <td>Very good</td>\n",
       "      <td>1322438400</td>\n",
       "      <td>this is the first fragrance by prada that i lo...</td>\n",
       "      <td>[1, 1]</td>\n",
       "      <td>Nikki</td>\n",
       "      <td>this is the first fragrance by prada that i lo...</td>\n",
       "      <td>1.000000</td>\n",
       "      <td>1</td>\n",
       "      <td>1</td>\n",
       "    </tr>\n",
       "    <tr>\n",
       "      <th>24</th>\n",
       "      <td>03 11, 2014</td>\n",
       "      <td>A2FQZKL2KIZACO</td>\n",
       "      <td>5.0</td>\n",
       "      <td>9790790961</td>\n",
       "      <td>Spring Garden in a Bottle</td>\n",
       "      <td>1394496000</td>\n",
       "      <td>i'm very picky when it comes to fragrance. i l...</td>\n",
       "      <td>[1, 1]</td>\n",
       "      <td>Ellie B.</td>\n",
       "      <td>im very picky when it comes to fragrance i lov...</td>\n",
       "      <td>1.000000</td>\n",
       "      <td>1</td>\n",
       "      <td>1</td>\n",
       "    </tr>\n",
       "    <tr>\n",
       "      <th>37</th>\n",
       "      <td>03 22, 2014</td>\n",
       "      <td>A16NAH39LN211W</td>\n",
       "      <td>5.0</td>\n",
       "      <td>B00004TMFE</td>\n",
       "      <td>Really good stuff</td>\n",
       "      <td>1395446400</td>\n",
       "      <td>my hair is fine like a baby's and rather thin....</td>\n",
       "      <td>[2, 3]</td>\n",
       "      <td>Blondie</td>\n",
       "      <td>my hair is fine like a babys and rather thin  ...</td>\n",
       "      <td>0.666667</td>\n",
       "      <td>1</td>\n",
       "      <td>1</td>\n",
       "    </tr>\n",
       "    <tr>\n",
       "      <th>42</th>\n",
       "      <td>09 13, 2013</td>\n",
       "      <td>A2EVBQAN92IEZS</td>\n",
       "      <td>1.0</td>\n",
       "      <td>B00004TMFE</td>\n",
       "      <td>Doesn't live up to its promises</td>\n",
       "      <td>1379030400</td>\n",
       "      <td>rather than leaving my hair softer and more ma...</td>\n",
       "      <td>[3, 3]</td>\n",
       "      <td>Fati1981</td>\n",
       "      <td>rather than leaving my hair softer and more ma...</td>\n",
       "      <td>1.000000</td>\n",
       "      <td>0</td>\n",
       "      <td>1</td>\n",
       "    </tr>\n",
       "    <tr>\n",
       "      <th>46</th>\n",
       "      <td>03 14, 2011</td>\n",
       "      <td>AX1567KGMAVLT</td>\n",
       "      <td>5.0</td>\n",
       "      <td>B00004TMFE</td>\n",
       "      <td>very surprised how much I love this</td>\n",
       "      <td>1300060800</td>\n",
       "      <td>with the inevitable hormonal changes, my hair ...</td>\n",
       "      <td>[7, 8]</td>\n",
       "      <td>jjjjordan</td>\n",
       "      <td>with the inevitable hormonal changes my hair s...</td>\n",
       "      <td>0.875000</td>\n",
       "      <td>1</td>\n",
       "      <td>1</td>\n",
       "    </tr>\n",
       "    <tr>\n",
       "      <th>47</th>\n",
       "      <td>06 8, 2013</td>\n",
       "      <td>AQX8T9SFFK43U</td>\n",
       "      <td>4.0</td>\n",
       "      <td>B00004TMFE</td>\n",
       "      <td>Losing less hair!  See detailed review.</td>\n",
       "      <td>1370649600</td>\n",
       "      <td>6/8/2013, first review: i thought to review th...</td>\n",
       "      <td>[3, 4]</td>\n",
       "      <td>Kristina Montes</td>\n",
       "      <td>first review i thought to review this product...</td>\n",
       "      <td>0.750000</td>\n",
       "      <td>1</td>\n",
       "      <td>1</td>\n",
       "    </tr>\n",
       "    <tr>\n",
       "      <th>52</th>\n",
       "      <td>02 1, 2011</td>\n",
       "      <td>A1S8KORSO7AL10</td>\n",
       "      <td>3.0</td>\n",
       "      <td>B00004TMFE</td>\n",
       "      <td>it's alright.</td>\n",
       "      <td>1296518400</td>\n",
       "      <td>this stuff makes your hair feel thicker after ...</td>\n",
       "      <td>[8, 10]</td>\n",
       "      <td>S. TIERNAN</td>\n",
       "      <td>this stuff makes your hair feel thicker after ...</td>\n",
       "      <td>0.800000</td>\n",
       "      <td>0</td>\n",
       "      <td>1</td>\n",
       "    </tr>\n",
       "    <tr>\n",
       "      <th>59</th>\n",
       "      <td>05 26, 2007</td>\n",
       "      <td>A3B7900K4X1AY5</td>\n",
       "      <td>5.0</td>\n",
       "      <td>B00004TUBL</td>\n",
       "      <td>Boat is next!</td>\n",
       "      <td>1180137600</td>\n",
       "      <td>i bought this for my husband's bathroom and he...</td>\n",
       "      <td>[4, 4]</td>\n",
       "      <td>Ana Luiza Welch \"TIPSY GIPSY\"</td>\n",
       "      <td>i bought this for my husbands bathroom and he ...</td>\n",
       "      <td>1.000000</td>\n",
       "      <td>1</td>\n",
       "      <td>1</td>\n",
       "    </tr>\n",
       "    <tr>\n",
       "      <th>67</th>\n",
       "      <td>10 23, 2013</td>\n",
       "      <td>AW2CYR1UFNI1R</td>\n",
       "      <td>1.0</td>\n",
       "      <td>B00004TUBL</td>\n",
       "      <td>Better Living is Worse Living</td>\n",
       "      <td>1382486400</td>\n",
       "      <td>this is the second better living classic dispe...</td>\n",
       "      <td>[7, 9]</td>\n",
       "      <td>JP \"byaaah!!!!!!\"</td>\n",
       "      <td>this is the second better living classic dispe...</td>\n",
       "      <td>0.777778</td>\n",
       "      <td>0</td>\n",
       "      <td>1</td>\n",
       "    </tr>\n",
       "    <tr>\n",
       "      <th>70</th>\n",
       "      <td>09 21, 2006</td>\n",
       "      <td>AN5T6MAD6FC5I</td>\n",
       "      <td>5.0</td>\n",
       "      <td>B00004TUBL</td>\n",
       "      <td>Just perfect</td>\n",
       "      <td>1158796800</td>\n",
       "      <td>i bought this because i was sick of tripping o...</td>\n",
       "      <td>[17, 20]</td>\n",
       "      <td>Legal&amp;Sane</td>\n",
       "      <td>i bought this because i was sick of tripping o...</td>\n",
       "      <td>0.850000</td>\n",
       "      <td>1</td>\n",
       "      <td>1</td>\n",
       "    </tr>\n",
       "    <tr>\n",
       "      <th>71</th>\n",
       "      <td>04 26, 2014</td>\n",
       "      <td>A220H1HPW0BU20</td>\n",
       "      <td>5.0</td>\n",
       "      <td>B00004TUBL</td>\n",
       "      <td>Love This</td>\n",
       "      <td>1398470400</td>\n",
       "      <td>i have the smallest bathroom known to man.  it...</td>\n",
       "      <td>[1, 1]</td>\n",
       "      <td>L. McMahon \"lpm\"</td>\n",
       "      <td>i have the smallest bathroom known to man  its...</td>\n",
       "      <td>1.000000</td>\n",
       "      <td>1</td>\n",
       "      <td>1</td>\n",
       "    </tr>\n",
       "    <tr>\n",
       "      <th>78</th>\n",
       "      <td>04 21, 2011</td>\n",
       "      <td>AMB2Z4FMDBWQY</td>\n",
       "      <td>2.0</td>\n",
       "      <td>B00004TUBL</td>\n",
       "      <td>Dispensers Made of Cheap, Fragile Plastic - Be...</td>\n",
       "      <td>1303344000</td>\n",
       "      <td>i bought a similar type of dispenser back in 1...</td>\n",
       "      <td>[11, 14]</td>\n",
       "      <td>VIDFAN \"specfellow\"</td>\n",
       "      <td>i bought a similar type of dispenser back in  ...</td>\n",
       "      <td>0.785714</td>\n",
       "      <td>0</td>\n",
       "      <td>0</td>\n",
       "    </tr>\n",
       "    <tr>\n",
       "      <th>85</th>\n",
       "      <td>04 6, 2012</td>\n",
       "      <td>A1J7CRZ4OJ1T2L</td>\n",
       "      <td>5.0</td>\n",
       "      <td>B00004U9UY</td>\n",
       "      <td>Oh yes!</td>\n",
       "      <td>1333670400</td>\n",
       "      <td>wonderful product. paired with a little exfoli...</td>\n",
       "      <td>[1, 1]</td>\n",
       "      <td>Angela R.</td>\n",
       "      <td>wonderful product paired with a little exfolia...</td>\n",
       "      <td>1.000000</td>\n",
       "      <td>1</td>\n",
       "      <td>1</td>\n",
       "    </tr>\n",
       "    <tr>\n",
       "      <th>92</th>\n",
       "      <td>02 6, 2012</td>\n",
       "      <td>A3VU2J7G0U35AU</td>\n",
       "      <td>5.0</td>\n",
       "      <td>B00004U9UY</td>\n",
       "      <td>Nothing Works Like it....or Smells Like it! Mm...</td>\n",
       "      <td>1328486400</td>\n",
       "      <td>i've been using this creme for about 20 years ...</td>\n",
       "      <td>[1, 1]</td>\n",
       "      <td>Jaybird</td>\n",
       "      <td>ive been using this creme for about  years now...</td>\n",
       "      <td>1.000000</td>\n",
       "      <td>1</td>\n",
       "      <td>1</td>\n",
       "    </tr>\n",
       "    <tr>\n",
       "      <th>96</th>\n",
       "      <td>04 1, 2009</td>\n",
       "      <td>A3S3R88HA0HZG3</td>\n",
       "      <td>5.0</td>\n",
       "      <td>B00004U9UY</td>\n",
       "      <td>An effective hand cream with a wonderful scent</td>\n",
       "      <td>1238544000</td>\n",
       "      <td>this hand cream has one of the nicest fragranc...</td>\n",
       "      <td>[1, 1]</td>\n",
       "      <td>PT Cruiser</td>\n",
       "      <td>this hand cream has one of the nicest fragranc...</td>\n",
       "      <td>1.000000</td>\n",
       "      <td>1</td>\n",
       "      <td>1</td>\n",
       "    </tr>\n",
       "    <tr>\n",
       "      <th>111</th>\n",
       "      <td>03 25, 2014</td>\n",
       "      <td>A3T4OHEAHOJ700</td>\n",
       "      <td>5.0</td>\n",
       "      <td>B000050B6U</td>\n",
       "      <td>Inexpensive Yet Functional</td>\n",
       "      <td>1395705600</td>\n",
       "      <td>i didn't expect too much when i purchased this...</td>\n",
       "      <td>[1, 1]</td>\n",
       "      <td>B. Colonna</td>\n",
       "      <td>i didnt expect too much when i purchased this ...</td>\n",
       "      <td>1.000000</td>\n",
       "      <td>1</td>\n",
       "      <td>1</td>\n",
       "    </tr>\n",
       "    <tr>\n",
       "      <th>112</th>\n",
       "      <td>09 9, 2013</td>\n",
       "      <td>AWR80FA3IQ633</td>\n",
       "      <td>5.0</td>\n",
       "      <td>B000050B6U</td>\n",
       "      <td>Great for short hair</td>\n",
       "      <td>1378684800</td>\n",
       "      <td>the 1/2&amp;#34; barrel is perfect for styling sho...</td>\n",
       "      <td>[1, 1]</td>\n",
       "      <td>Bookworm</td>\n",
       "      <td>the  barrel is perfect for styling short hair ...</td>\n",
       "      <td>1.000000</td>\n",
       "      <td>1</td>\n",
       "      <td>1</td>\n",
       "    </tr>\n",
       "    <tr>\n",
       "      <th>113</th>\n",
       "      <td>12 15, 2012</td>\n",
       "      <td>A3TQZLWYCQXLCQ</td>\n",
       "      <td>5.0</td>\n",
       "      <td>B000050B6U</td>\n",
       "      <td>Great</td>\n",
       "      <td>1355529600</td>\n",
       "      <td>this came quick and packaged just like i bough...</td>\n",
       "      <td>[1, 1]</td>\n",
       "      <td>Brandi</td>\n",
       "      <td>this came quick and packaged just like i bough...</td>\n",
       "      <td>1.000000</td>\n",
       "      <td>1</td>\n",
       "      <td>1</td>\n",
       "    </tr>\n",
       "    <tr>\n",
       "      <th>114</th>\n",
       "      <td>03 23, 2011</td>\n",
       "      <td>A2RUV6V9CWZAA0</td>\n",
       "      <td>3.0</td>\n",
       "      <td>B000050B6U</td>\n",
       "      <td>Better than others</td>\n",
       "      <td>1300838400</td>\n",
       "      <td></td>\n",
       "      <td>[7, 10]</td>\n",
       "      <td>Candy</td>\n",
       "      <td></td>\n",
       "      <td>0.700000</td>\n",
       "      <td>0</td>\n",
       "      <td>0</td>\n",
       "    </tr>\n",
       "    <tr>\n",
       "      <th>115</th>\n",
       "      <td>06 4, 2013</td>\n",
       "      <td>AWWBWAEQ8UUO0</td>\n",
       "      <td>5.0</td>\n",
       "      <td>B000050B6U</td>\n",
       "      <td>Good quality for the price.</td>\n",
       "      <td>1370304000</td>\n",
       "      <td>the iron heats up quickly and seems to be good...</td>\n",
       "      <td>[1, 1]</td>\n",
       "      <td>Capcyclone</td>\n",
       "      <td>the iron heats up quickly and seems to be good...</td>\n",
       "      <td>1.000000</td>\n",
       "      <td>1</td>\n",
       "      <td>1</td>\n",
       "    </tr>\n",
       "    <tr>\n",
       "      <th>116</th>\n",
       "      <td>12 28, 2013</td>\n",
       "      <td>AWN8Q7FYS4G09</td>\n",
       "      <td>5.0</td>\n",
       "      <td>B000050B6U</td>\n",
       "      <td>Works very well.</td>\n",
       "      <td>1388188800</td>\n",
       "      <td>this curling iron works so well and i'm so gla...</td>\n",
       "      <td>[1, 1]</td>\n",
       "      <td>Cat lover</td>\n",
       "      <td>this curling iron works so well and im so glad...</td>\n",
       "      <td>1.000000</td>\n",
       "      <td>1</td>\n",
       "      <td>1</td>\n",
       "    </tr>\n",
       "    <tr>\n",
       "      <th>117</th>\n",
       "      <td>10 12, 2009</td>\n",
       "      <td>A17V9XL4CWTQ6G</td>\n",
       "      <td>5.0</td>\n",
       "      <td>B000050B6U</td>\n",
       "      <td>Best curling iron I've found but don't turn it...</td>\n",
       "      <td>1255305600</td>\n",
       "      <td>i am the kind of person who will splurge on co...</td>\n",
       "      <td>[75, 78]</td>\n",
       "      <td>Chandler</td>\n",
       "      <td>i am the kind of person who will splurge on co...</td>\n",
       "      <td>0.961538</td>\n",
       "      <td>1</td>\n",
       "      <td>1</td>\n",
       "    </tr>\n",
       "    <tr>\n",
       "      <th>118</th>\n",
       "      <td>04 29, 2013</td>\n",
       "      <td>A1LB3NB6L5DT1Y</td>\n",
       "      <td>5.0</td>\n",
       "      <td>B000050B6U</td>\n",
       "      <td>In love :)</td>\n",
       "      <td>1367193600</td>\n",
       "      <td>so in love with my conair curling iron. i have...</td>\n",
       "      <td>[1, 1]</td>\n",
       "      <td>College Kid!</td>\n",
       "      <td>so in love with my conair curling iron i have ...</td>\n",
       "      <td>1.000000</td>\n",
       "      <td>1</td>\n",
       "      <td>1</td>\n",
       "    </tr>\n",
       "    <tr>\n",
       "      <th>125</th>\n",
       "      <td>05 13, 2010</td>\n",
       "      <td>A3QOIDA6B2NIPO</td>\n",
       "      <td>5.0</td>\n",
       "      <td>B000050B6U</td>\n",
       "      <td>So Good, I Bought Two</td>\n",
       "      <td>1273708800</td>\n",
       "      <td>true to its name, this curling iron heats up f...</td>\n",
       "      <td>[1, 1]</td>\n",
       "      <td>emmejay</td>\n",
       "      <td>true to its name this curling iron heats up fa...</td>\n",
       "      <td>1.000000</td>\n",
       "      <td>1</td>\n",
       "      <td>1</td>\n",
       "    </tr>\n",
       "    <tr>\n",
       "      <th>132</th>\n",
       "      <td>02 6, 2013</td>\n",
       "      <td>A1H2M09FY6B9LR</td>\n",
       "      <td>1.0</td>\n",
       "      <td>B000050B6U</td>\n",
       "      <td>Used it only twice!</td>\n",
       "      <td>1360108800</td>\n",
       "      <td>i absolutely love this conair instant heat cur...</td>\n",
       "      <td>[3, 3]</td>\n",
       "      <td>Lynz</td>\n",
       "      <td>i absolutely love this conair instant heat cur...</td>\n",
       "      <td>1.000000</td>\n",
       "      <td>0</td>\n",
       "      <td>1</td>\n",
       "    </tr>\n",
       "    <tr>\n",
       "      <th>146</th>\n",
       "      <td>08 27, 2012</td>\n",
       "      <td>A9JG8QKH3NWFJ</td>\n",
       "      <td>5.0</td>\n",
       "      <td>B000050B6U</td>\n",
       "      <td>Loved it!</td>\n",
       "      <td>1346025600</td>\n",
       "      <td>this is the first curling iron i ever used.. a...</td>\n",
       "      <td>[2, 2]</td>\n",
       "      <td>Sara</td>\n",
       "      <td>this is the first curling iron i ever used and...</td>\n",
       "      <td>1.000000</td>\n",
       "      <td>1</td>\n",
       "      <td>1</td>\n",
       "    </tr>\n",
       "    <tr>\n",
       "      <th>...</th>\n",
       "      <td>...</td>\n",
       "      <td>...</td>\n",
       "      <td>...</td>\n",
       "      <td>...</td>\n",
       "      <td>...</td>\n",
       "      <td>...</td>\n",
       "      <td>...</td>\n",
       "      <td>...</td>\n",
       "      <td>...</td>\n",
       "      <td>...</td>\n",
       "      <td>...</td>\n",
       "      <td>...</td>\n",
       "      <td>...</td>\n",
       "    </tr>\n",
       "    <tr>\n",
       "      <th>198390</th>\n",
       "      <td>07 3, 2014</td>\n",
       "      <td>ASNEWWV7GY6LF</td>\n",
       "      <td>5.0</td>\n",
       "      <td>B00L2KVF9W</td>\n",
       "      <td>Five Stars</td>\n",
       "      <td>1404345600</td>\n",
       "      <td>amazing! i almost don't recognize my great aun...</td>\n",
       "      <td>[1, 1]</td>\n",
       "      <td>Dylan Milbourne</td>\n",
       "      <td>amazing i almost dont recognize my great aunt ...</td>\n",
       "      <td>1.000000</td>\n",
       "      <td>1</td>\n",
       "      <td>1</td>\n",
       "    </tr>\n",
       "    <tr>\n",
       "      <th>198391</th>\n",
       "      <td>07 8, 2014</td>\n",
       "      <td>A1K3L3CVDVSKH2</td>\n",
       "      <td>5.0</td>\n",
       "      <td>B00L2KVF9W</td>\n",
       "      <td>rapidly working on my skin</td>\n",
       "      <td>1404777600</td>\n",
       "      <td>the redness and roughness of my skin has reduc...</td>\n",
       "      <td>[1, 1]</td>\n",
       "      <td>JOX MONTES</td>\n",
       "      <td>the redness and roughness of my skin has reduc...</td>\n",
       "      <td>1.000000</td>\n",
       "      <td>1</td>\n",
       "      <td>1</td>\n",
       "    </tr>\n",
       "    <tr>\n",
       "      <th>198406</th>\n",
       "      <td>07 14, 2014</td>\n",
       "      <td>A1KQNP8MOJDJKC</td>\n",
       "      <td>5.0</td>\n",
       "      <td>B00L3K91OW</td>\n",
       "      <td>magic serum</td>\n",
       "      <td>1405296000</td>\n",
       "      <td>great serum with all the nice ingredients, vit...</td>\n",
       "      <td>[1, 1]</td>\n",
       "      <td>RS</td>\n",
       "      <td>great serum with all the nice ingredients vit ...</td>\n",
       "      <td>1.000000</td>\n",
       "      <td>1</td>\n",
       "      <td>1</td>\n",
       "    </tr>\n",
       "    <tr>\n",
       "      <th>198407</th>\n",
       "      <td>07 4, 2014</td>\n",
       "      <td>A39BNXIZYAJYP0</td>\n",
       "      <td>5.0</td>\n",
       "      <td>B00L3K91OW</td>\n",
       "      <td>Lots of good ingredients!</td>\n",
       "      <td>1404432000</td>\n",
       "      <td>this is like vitamins for the skin! feels grea...</td>\n",
       "      <td>[1, 1]</td>\n",
       "      <td>Sammie</td>\n",
       "      <td>this is like vitamins for the skin feels great...</td>\n",
       "      <td>1.000000</td>\n",
       "      <td>1</td>\n",
       "      <td>1</td>\n",
       "    </tr>\n",
       "    <tr>\n",
       "      <th>198419</th>\n",
       "      <td>07 14, 2014</td>\n",
       "      <td>A1KQNP8MOJDJKC</td>\n",
       "      <td>5.0</td>\n",
       "      <td>B00L3LB0IG</td>\n",
       "      <td>nice cream</td>\n",
       "      <td>1405296000</td>\n",
       "      <td>its a high quality cream, the packaging is ver...</td>\n",
       "      <td>[1, 1]</td>\n",
       "      <td>RS</td>\n",
       "      <td>its a high quality cream the packaging is very...</td>\n",
       "      <td>1.000000</td>\n",
       "      <td>1</td>\n",
       "      <td>1</td>\n",
       "    </tr>\n",
       "    <tr>\n",
       "      <th>198428</th>\n",
       "      <td>07 2, 2014</td>\n",
       "      <td>A1YMNTFLNDYQ1F</td>\n",
       "      <td>5.0</td>\n",
       "      <td>B00L3LBUGI</td>\n",
       "      <td>Nice natural mask!</td>\n",
       "      <td>1404259200</td>\n",
       "      <td>this is a pretty decent vitamin c mask. some m...</td>\n",
       "      <td>[1, 1]</td>\n",
       "      <td>eyeused2loveher</td>\n",
       "      <td>this is a pretty decent vitamin c mask some ma...</td>\n",
       "      <td>1.000000</td>\n",
       "      <td>1</td>\n",
       "      <td>0</td>\n",
       "    </tr>\n",
       "    <tr>\n",
       "      <th>198431</th>\n",
       "      <td>07 3, 2014</td>\n",
       "      <td>A11J1FHCK5U06J</td>\n",
       "      <td>5.0</td>\n",
       "      <td>B00L3LBUGI</td>\n",
       "      <td>Thick rich and very nourishing weekly mask!</td>\n",
       "      <td>1404345600</td>\n",
       "      <td>beautifully packaged and very light, barely th...</td>\n",
       "      <td>[1, 1]</td>\n",
       "      <td>Karinna Ball</td>\n",
       "      <td>beautifully packaged and very light barely the...</td>\n",
       "      <td>1.000000</td>\n",
       "      <td>1</td>\n",
       "      <td>1</td>\n",
       "    </tr>\n",
       "    <tr>\n",
       "      <th>198434</th>\n",
       "      <td>07 14, 2014</td>\n",
       "      <td>A1KQNP8MOJDJKC</td>\n",
       "      <td>5.0</td>\n",
       "      <td>B00L3LBUGI</td>\n",
       "      <td>very nice mask</td>\n",
       "      <td>1405296000</td>\n",
       "      <td>we live in a toxic world. every day our skin i...</td>\n",
       "      <td>[1, 1]</td>\n",
       "      <td>RS</td>\n",
       "      <td>we live in a toxic world every day our skin is...</td>\n",
       "      <td>1.000000</td>\n",
       "      <td>1</td>\n",
       "      <td>1</td>\n",
       "    </tr>\n",
       "    <tr>\n",
       "      <th>198439</th>\n",
       "      <td>07 17, 2014</td>\n",
       "      <td>A3NHUQ33CFH3VM</td>\n",
       "      <td>5.0</td>\n",
       "      <td>B00L5BXG36</td>\n",
       "      <td>Friendly sleep mask</td>\n",
       "      <td>1405555200</td>\n",
       "      <td>all i'd known in sleep masks is what they give...</td>\n",
       "      <td>[2, 2]</td>\n",
       "      <td>Citizen John</td>\n",
       "      <td>all id known in sleep masks is what they give ...</td>\n",
       "      <td>1.000000</td>\n",
       "      <td>1</td>\n",
       "      <td>1</td>\n",
       "    </tr>\n",
       "    <tr>\n",
       "      <th>198440</th>\n",
       "      <td>07 14, 2014</td>\n",
       "      <td>A2BYV7S1QP2YIG</td>\n",
       "      <td>5.0</td>\n",
       "      <td>B00L5BXG36</td>\n",
       "      <td>These work great...</td>\n",
       "      <td>1405296000</td>\n",
       "      <td>i need complete darkness to sleep.  as soon as...</td>\n",
       "      <td>[3, 3]</td>\n",
       "      <td>Dr. Oceanfront \"Oceanfront\"</td>\n",
       "      <td>i need complete darkness to sleep  as soon as ...</td>\n",
       "      <td>1.000000</td>\n",
       "      <td>1</td>\n",
       "      <td>1</td>\n",
       "    </tr>\n",
       "    <tr>\n",
       "      <th>198441</th>\n",
       "      <td>07 19, 2014</td>\n",
       "      <td>A1UQBFCERIP7VJ</td>\n",
       "      <td>5.0</td>\n",
       "      <td>B00L5BXG36</td>\n",
       "      <td>Works well</td>\n",
       "      <td>1405728000</td>\n",
       "      <td>this comfortable sleep mask has a plushy insid...</td>\n",
       "      <td>[2, 2]</td>\n",
       "      <td>Margaret Picky</td>\n",
       "      <td>this comfortable sleep mask has a plushy insid...</td>\n",
       "      <td>1.000000</td>\n",
       "      <td>1</td>\n",
       "      <td>1</td>\n",
       "    </tr>\n",
       "    <tr>\n",
       "      <th>198442</th>\n",
       "      <td>07 17, 2014</td>\n",
       "      <td>A205I2954VFOPL</td>\n",
       "      <td>5.0</td>\n",
       "      <td>B00L5BXG36</td>\n",
       "      <td>I finally slept soundly!</td>\n",
       "      <td>1405555200</td>\n",
       "      <td>i've had a hard time sleeping for the last two...</td>\n",
       "      <td>[4, 4]</td>\n",
       "      <td>*~*Mary*~* \"Follow me on Facebook at Miss Mar...</td>\n",
       "      <td>ive had a hard time sleeping for the last two ...</td>\n",
       "      <td>1.000000</td>\n",
       "      <td>1</td>\n",
       "      <td>1</td>\n",
       "    </tr>\n",
       "    <tr>\n",
       "      <th>198443</th>\n",
       "      <td>07 19, 2014</td>\n",
       "      <td>ARFRKID8WSIIL</td>\n",
       "      <td>5.0</td>\n",
       "      <td>B00L5BXG36</td>\n",
       "      <td>Very useful anyplace you go!</td>\n",
       "      <td>1405728000</td>\n",
       "      <td>you can use this to sleep well through the nig...</td>\n",
       "      <td>[1, 1]</td>\n",
       "      <td>Natosha S. Miller</td>\n",
       "      <td>you can use this to sleep well through the nig...</td>\n",
       "      <td>1.000000</td>\n",
       "      <td>1</td>\n",
       "      <td>1</td>\n",
       "    </tr>\n",
       "    <tr>\n",
       "      <th>198444</th>\n",
       "      <td>07 18, 2014</td>\n",
       "      <td>A2NOW4U7W3F7RI</td>\n",
       "      <td>5.0</td>\n",
       "      <td>B00L5BXG36</td>\n",
       "      <td>Effective solution for getting to sleep.</td>\n",
       "      <td>1405641600</td>\n",
       "      <td>very nice, useful in moving trains/planes or e...</td>\n",
       "      <td>[2, 2]</td>\n",
       "      <td>rpv</td>\n",
       "      <td>very nice useful in moving trainsplanes or eve...</td>\n",
       "      <td>1.000000</td>\n",
       "      <td>1</td>\n",
       "      <td>1</td>\n",
       "    </tr>\n",
       "    <tr>\n",
       "      <th>198445</th>\n",
       "      <td>07 15, 2014</td>\n",
       "      <td>A2AAOQEFNGM9SG</td>\n",
       "      <td>5.0</td>\n",
       "      <td>B00L5BXG36</td>\n",
       "      <td>To a good nights sleep.</td>\n",
       "      <td>1405382400</td>\n",
       "      <td>this is my first time using a sleep mask and i...</td>\n",
       "      <td>[3, 3]</td>\n",
       "      <td>Tamera</td>\n",
       "      <td>this is my first time using a sleep mask and i...</td>\n",
       "      <td>1.000000</td>\n",
       "      <td>1</td>\n",
       "      <td>1</td>\n",
       "    </tr>\n",
       "    <tr>\n",
       "      <th>198446</th>\n",
       "      <td>07 9, 2014</td>\n",
       "      <td>A2PIGZCDGM4NJ7</td>\n",
       "      <td>1.0</td>\n",
       "      <td>B00L5JHZJO</td>\n",
       "      <td>Bad Product</td>\n",
       "      <td>1404864000</td>\n",
       "      <td>this is a horrible product, most of the review...</td>\n",
       "      <td>[10, 11]</td>\n",
       "      <td>NaN</td>\n",
       "      <td>this is a horrible product most of the reviews...</td>\n",
       "      <td>0.909091</td>\n",
       "      <td>0</td>\n",
       "      <td>0</td>\n",
       "    </tr>\n",
       "    <tr>\n",
       "      <th>198447</th>\n",
       "      <td>07 4, 2014</td>\n",
       "      <td>A3M1ADU4JICQR2</td>\n",
       "      <td>1.0</td>\n",
       "      <td>B00L5JHZJO</td>\n",
       "      <td>Not satisfed</td>\n",
       "      <td>1404432000</td>\n",
       "      <td>i bought this for my wife, as she loves using ...</td>\n",
       "      <td>[5, 6]</td>\n",
       "      <td>NaN</td>\n",
       "      <td>i bought this for my wife as she loves using n...</td>\n",
       "      <td>0.833333</td>\n",
       "      <td>0</td>\n",
       "      <td>0</td>\n",
       "    </tr>\n",
       "    <tr>\n",
       "      <th>198449</th>\n",
       "      <td>07 7, 2014</td>\n",
       "      <td>A2KIE6D23MMOC5</td>\n",
       "      <td>1.0</td>\n",
       "      <td>B00L5JHZJO</td>\n",
       "      <td>Disappointed</td>\n",
       "      <td>1404691200</td>\n",
       "      <td>got this a week ago and i'm really disappointe...</td>\n",
       "      <td>[11, 12]</td>\n",
       "      <td>Cathy Juntura</td>\n",
       "      <td>got this a week ago and im really disappointed...</td>\n",
       "      <td>0.916667</td>\n",
       "      <td>0</td>\n",
       "      <td>0</td>\n",
       "    </tr>\n",
       "    <tr>\n",
       "      <th>198454</th>\n",
       "      <td>04 4, 2014</td>\n",
       "      <td>ARFRKID8WSIIL</td>\n",
       "      <td>5.0</td>\n",
       "      <td>B00L5JHZJO</td>\n",
       "      <td>Terrific product!!</td>\n",
       "      <td>1396569600</td>\n",
       "      <td>this product is used to benefit and help reple...</td>\n",
       "      <td>[52, 52]</td>\n",
       "      <td>Natosha S. Miller</td>\n",
       "      <td>this product is used to benefit and help reple...</td>\n",
       "      <td>1.000000</td>\n",
       "      <td>1</td>\n",
       "      <td>1</td>\n",
       "    </tr>\n",
       "    <tr>\n",
       "      <th>198471</th>\n",
       "      <td>05 24, 2014</td>\n",
       "      <td>A1PIJ1IUG6S3SQ</td>\n",
       "      <td>3.0</td>\n",
       "      <td>B00L6Q3BH6</td>\n",
       "      <td>superb pigmentation and matte but extremely dr...</td>\n",
       "      <td>1400889600</td>\n",
       "      <td>because of all the hype, i decided to try the ...</td>\n",
       "      <td>[5, 5]</td>\n",
       "      <td>christine</td>\n",
       "      <td>because of all the hype i decided to try the v...</td>\n",
       "      <td>1.000000</td>\n",
       "      <td>0</td>\n",
       "      <td>1</td>\n",
       "    </tr>\n",
       "    <tr>\n",
       "      <th>198474</th>\n",
       "      <td>04 24, 2014</td>\n",
       "      <td>A12UT32YCU0WT0</td>\n",
       "      <td>4.0</td>\n",
       "      <td>B00L6Q3BH6</td>\n",
       "      <td>Such a beautiful color</td>\n",
       "      <td>1398297600</td>\n",
       "      <td>i feel like i could pierce a man's soul while ...</td>\n",
       "      <td>[10, 10]</td>\n",
       "      <td>Marie Esther</td>\n",
       "      <td>i feel like i could pierce a mans soul while w...</td>\n",
       "      <td>1.000000</td>\n",
       "      <td>1</td>\n",
       "      <td>1</td>\n",
       "    </tr>\n",
       "    <tr>\n",
       "      <th>198482</th>\n",
       "      <td>07 8, 2014</td>\n",
       "      <td>A3T66KHK2VAJ1I</td>\n",
       "      <td>5.0</td>\n",
       "      <td>B00LCEROA2</td>\n",
       "      <td>For a wonderful nights sleep</td>\n",
       "      <td>1404777600</td>\n",
       "      <td>i use a few drop in the bath and also on my pi...</td>\n",
       "      <td>[1, 1]</td>\n",
       "      <td>Robyn</td>\n",
       "      <td>i use a few drop in the bath and also on my pi...</td>\n",
       "      <td>1.000000</td>\n",
       "      <td>1</td>\n",
       "      <td>1</td>\n",
       "    </tr>\n",
       "    <tr>\n",
       "      <th>198485</th>\n",
       "      <td>07 18, 2014</td>\n",
       "      <td>A1Q1Z7IR79G52A</td>\n",
       "      <td>5.0</td>\n",
       "      <td>B00LG63DOM</td>\n",
       "      <td>Great Vitamin C, Hyaluronic Acid serum for you...</td>\n",
       "      <td>1405641600</td>\n",
       "      <td>feels amazing on my skin. love how easy the pu...</td>\n",
       "      <td>[1, 1]</td>\n",
       "      <td>Ann Ingersoll Madison Rain \"Ann\"</td>\n",
       "      <td>feels amazing on my skin love how easy the pum...</td>\n",
       "      <td>1.000000</td>\n",
       "      <td>1</td>\n",
       "      <td>1</td>\n",
       "    </tr>\n",
       "    <tr>\n",
       "      <th>198486</th>\n",
       "      <td>07 18, 2014</td>\n",
       "      <td>AV34KNYW82YSS</td>\n",
       "      <td>5.0</td>\n",
       "      <td>B00LG63DOM</td>\n",
       "      <td>Love the product.</td>\n",
       "      <td>1405641600</td>\n",
       "      <td>enjoying this product a lot! i've noticed the ...</td>\n",
       "      <td>[1, 1]</td>\n",
       "      <td>A Rich</td>\n",
       "      <td>enjoying this product a lot ive noticed the th...</td>\n",
       "      <td>1.000000</td>\n",
       "      <td>1</td>\n",
       "      <td>1</td>\n",
       "    </tr>\n",
       "    <tr>\n",
       "      <th>198488</th>\n",
       "      <td>07 20, 2014</td>\n",
       "      <td>A1BWZ7BS12D3H</td>\n",
       "      <td>5.0</td>\n",
       "      <td>B00LG63DOM</td>\n",
       "      <td>Great Results!</td>\n",
       "      <td>1405814400</td>\n",
       "      <td>since i have been using this product i noticed...</td>\n",
       "      <td>[2, 2]</td>\n",
       "      <td>Cher S.</td>\n",
       "      <td>since i have been using this product i noticed...</td>\n",
       "      <td>1.000000</td>\n",
       "      <td>1</td>\n",
       "      <td>1</td>\n",
       "    </tr>\n",
       "    <tr>\n",
       "      <th>198489</th>\n",
       "      <td>07 20, 2014</td>\n",
       "      <td>A1FQ3HRVXA4A5B</td>\n",
       "      <td>4.0</td>\n",
       "      <td>B00LG63DOM</td>\n",
       "      <td>This is a nice product that smells good and le...</td>\n",
       "      <td>1405814400</td>\n",
       "      <td>this is a nice product that smells good and le...</td>\n",
       "      <td>[1, 1]</td>\n",
       "      <td>Heather</td>\n",
       "      <td>this is a nice product that smells good and le...</td>\n",
       "      <td>1.000000</td>\n",
       "      <td>1</td>\n",
       "      <td>1</td>\n",
       "    </tr>\n",
       "    <tr>\n",
       "      <th>198490</th>\n",
       "      <td>07 18, 2014</td>\n",
       "      <td>A15TX8B2L8B20S</td>\n",
       "      <td>5.0</td>\n",
       "      <td>B00LG63DOM</td>\n",
       "      <td>Love it</td>\n",
       "      <td>1405641600</td>\n",
       "      <td>feels great. i already notice a difference aft...</td>\n",
       "      <td>[1, 1]</td>\n",
       "      <td>Jon Davidson</td>\n",
       "      <td>feels great i already notice a difference afte...</td>\n",
       "      <td>1.000000</td>\n",
       "      <td>1</td>\n",
       "      <td>1</td>\n",
       "    </tr>\n",
       "    <tr>\n",
       "      <th>198491</th>\n",
       "      <td>07 19, 2014</td>\n",
       "      <td>A3JI7QRZO1QG8X</td>\n",
       "      <td>5.0</td>\n",
       "      <td>B00LG63DOM</td>\n",
       "      <td>Seeing results in just a few uses</td>\n",
       "      <td>1405728000</td>\n",
       "      <td>i used this serum 3 times so far, using it twi...</td>\n",
       "      <td>[1, 1]</td>\n",
       "      <td>Joyce M. Davidson</td>\n",
       "      <td>i used this serum  times so far using it twice...</td>\n",
       "      <td>1.000000</td>\n",
       "      <td>1</td>\n",
       "      <td>1</td>\n",
       "    </tr>\n",
       "    <tr>\n",
       "      <th>198493</th>\n",
       "      <td>07 21, 2014</td>\n",
       "      <td>A3L85FTL937CEC</td>\n",
       "      <td>5.0</td>\n",
       "      <td>B00LG63DOM</td>\n",
       "      <td>I am so happy with this product</td>\n",
       "      <td>1405900800</td>\n",
       "      <td>i am so happy with this product. i have extrem...</td>\n",
       "      <td>[1, 1]</td>\n",
       "      <td>soha</td>\n",
       "      <td>i am so happy with this product i have extreme...</td>\n",
       "      <td>1.000000</td>\n",
       "      <td>1</td>\n",
       "      <td>1</td>\n",
       "    </tr>\n",
       "    <tr>\n",
       "      <th>198495</th>\n",
       "      <td>07 18, 2014</td>\n",
       "      <td>A34BZM6S9L7QI4</td>\n",
       "      <td>5.0</td>\n",
       "      <td>B00LLPT4HI</td>\n",
       "      <td>Panacea for Old Faces</td>\n",
       "      <td>1405641600</td>\n",
       "      <td>holy smokes i learn a lot from some of these p...</td>\n",
       "      <td>[2, 2]</td>\n",
       "      <td>Candy Cane \"Is it just me?\"</td>\n",
       "      <td>holy smokes i learn a lot from some of these p...</td>\n",
       "      <td>1.000000</td>\n",
       "      <td>1</td>\n",
       "      <td>0</td>\n",
       "    </tr>\n",
       "  </tbody>\n",
       "</table>\n",
       "<p>58941 rows × 13 columns</p>\n",
       "</div>"
      ],
      "text/plain": [
       "         reviewTime      reviewerID  overall        asin  \\\n",
       "0       01 30, 2014  A1YJEY40YUW4SE      1.0  7806397051   \n",
       "1       04 18, 2014   A60XNB876KYML      3.0  7806397051   \n",
       "3        12 8, 2013  A1PQFP6SAJ6D80      2.0  7806397051   \n",
       "19      09 19, 2011  A1QV5IH6HDRN0L      5.0  9788072216   \n",
       "21      11 28, 2011  A2EK2CJNJUF7OQ      5.0  9788072216   \n",
       "24      03 11, 2014  A2FQZKL2KIZACO      5.0  9790790961   \n",
       "37      03 22, 2014  A16NAH39LN211W      5.0  B00004TMFE   \n",
       "42      09 13, 2013  A2EVBQAN92IEZS      1.0  B00004TMFE   \n",
       "46      03 14, 2011   AX1567KGMAVLT      5.0  B00004TMFE   \n",
       "47       06 8, 2013   AQX8T9SFFK43U      4.0  B00004TMFE   \n",
       "52       02 1, 2011  A1S8KORSO7AL10      3.0  B00004TMFE   \n",
       "59      05 26, 2007  A3B7900K4X1AY5      5.0  B00004TUBL   \n",
       "67      10 23, 2013   AW2CYR1UFNI1R      1.0  B00004TUBL   \n",
       "70      09 21, 2006   AN5T6MAD6FC5I      5.0  B00004TUBL   \n",
       "71      04 26, 2014  A220H1HPW0BU20      5.0  B00004TUBL   \n",
       "78      04 21, 2011   AMB2Z4FMDBWQY      2.0  B00004TUBL   \n",
       "85       04 6, 2012  A1J7CRZ4OJ1T2L      5.0  B00004U9UY   \n",
       "92       02 6, 2012  A3VU2J7G0U35AU      5.0  B00004U9UY   \n",
       "96       04 1, 2009  A3S3R88HA0HZG3      5.0  B00004U9UY   \n",
       "111     03 25, 2014  A3T4OHEAHOJ700      5.0  B000050B6U   \n",
       "112      09 9, 2013   AWR80FA3IQ633      5.0  B000050B6U   \n",
       "113     12 15, 2012  A3TQZLWYCQXLCQ      5.0  B000050B6U   \n",
       "114     03 23, 2011  A2RUV6V9CWZAA0      3.0  B000050B6U   \n",
       "115      06 4, 2013   AWWBWAEQ8UUO0      5.0  B000050B6U   \n",
       "116     12 28, 2013   AWN8Q7FYS4G09      5.0  B000050B6U   \n",
       "117     10 12, 2009  A17V9XL4CWTQ6G      5.0  B000050B6U   \n",
       "118     04 29, 2013  A1LB3NB6L5DT1Y      5.0  B000050B6U   \n",
       "125     05 13, 2010  A3QOIDA6B2NIPO      5.0  B000050B6U   \n",
       "132      02 6, 2013  A1H2M09FY6B9LR      1.0  B000050B6U   \n",
       "146     08 27, 2012   A9JG8QKH3NWFJ      5.0  B000050B6U   \n",
       "...             ...             ...      ...         ...   \n",
       "198390   07 3, 2014   ASNEWWV7GY6LF      5.0  B00L2KVF9W   \n",
       "198391   07 8, 2014  A1K3L3CVDVSKH2      5.0  B00L2KVF9W   \n",
       "198406  07 14, 2014  A1KQNP8MOJDJKC      5.0  B00L3K91OW   \n",
       "198407   07 4, 2014  A39BNXIZYAJYP0      5.0  B00L3K91OW   \n",
       "198419  07 14, 2014  A1KQNP8MOJDJKC      5.0  B00L3LB0IG   \n",
       "198428   07 2, 2014  A1YMNTFLNDYQ1F      5.0  B00L3LBUGI   \n",
       "198431   07 3, 2014  A11J1FHCK5U06J      5.0  B00L3LBUGI   \n",
       "198434  07 14, 2014  A1KQNP8MOJDJKC      5.0  B00L3LBUGI   \n",
       "198439  07 17, 2014  A3NHUQ33CFH3VM      5.0  B00L5BXG36   \n",
       "198440  07 14, 2014  A2BYV7S1QP2YIG      5.0  B00L5BXG36   \n",
       "198441  07 19, 2014  A1UQBFCERIP7VJ      5.0  B00L5BXG36   \n",
       "198442  07 17, 2014  A205I2954VFOPL      5.0  B00L5BXG36   \n",
       "198443  07 19, 2014   ARFRKID8WSIIL      5.0  B00L5BXG36   \n",
       "198444  07 18, 2014  A2NOW4U7W3F7RI      5.0  B00L5BXG36   \n",
       "198445  07 15, 2014  A2AAOQEFNGM9SG      5.0  B00L5BXG36   \n",
       "198446   07 9, 2014  A2PIGZCDGM4NJ7      1.0  B00L5JHZJO   \n",
       "198447   07 4, 2014  A3M1ADU4JICQR2      1.0  B00L5JHZJO   \n",
       "198449   07 7, 2014  A2KIE6D23MMOC5      1.0  B00L5JHZJO   \n",
       "198454   04 4, 2014   ARFRKID8WSIIL      5.0  B00L5JHZJO   \n",
       "198471  05 24, 2014  A1PIJ1IUG6S3SQ      3.0  B00L6Q3BH6   \n",
       "198474  04 24, 2014  A12UT32YCU0WT0      4.0  B00L6Q3BH6   \n",
       "198482   07 8, 2014  A3T66KHK2VAJ1I      5.0  B00LCEROA2   \n",
       "198485  07 18, 2014  A1Q1Z7IR79G52A      5.0  B00LG63DOM   \n",
       "198486  07 18, 2014   AV34KNYW82YSS      5.0  B00LG63DOM   \n",
       "198488  07 20, 2014   A1BWZ7BS12D3H      5.0  B00LG63DOM   \n",
       "198489  07 20, 2014  A1FQ3HRVXA4A5B      4.0  B00LG63DOM   \n",
       "198490  07 18, 2014  A15TX8B2L8B20S      5.0  B00LG63DOM   \n",
       "198491  07 19, 2014  A3JI7QRZO1QG8X      5.0  B00LG63DOM   \n",
       "198493  07 21, 2014  A3L85FTL937CEC      5.0  B00LG63DOM   \n",
       "198495  07 18, 2014  A34BZM6S9L7QI4      5.0  B00LLPT4HI   \n",
       "\n",
       "                                                  summary  unixReviewTime  \\\n",
       "0                                  Don't waste your money      1391040000   \n",
       "1                                             OK Palette!      1397779200   \n",
       "3                                  Do not work on my face      1386460800   \n",
       "19                                Love the smell of this!      1316390400   \n",
       "21                                              Very good      1322438400   \n",
       "24                              Spring Garden in a Bottle      1394496000   \n",
       "37                                      Really good stuff      1395446400   \n",
       "42                        Doesn't live up to its promises      1379030400   \n",
       "46                    very surprised how much I love this      1300060800   \n",
       "47                Losing less hair!  See detailed review.      1370649600   \n",
       "52                                          it's alright.      1296518400   \n",
       "59                                          Boat is next!      1180137600   \n",
       "67                          Better Living is Worse Living      1382486400   \n",
       "70                                           Just perfect      1158796800   \n",
       "71                                              Love This      1398470400   \n",
       "78      Dispensers Made of Cheap, Fragile Plastic - Be...      1303344000   \n",
       "85                                                Oh yes!      1333670400   \n",
       "92      Nothing Works Like it....or Smells Like it! Mm...      1328486400   \n",
       "96         An effective hand cream with a wonderful scent      1238544000   \n",
       "111                            Inexpensive Yet Functional      1395705600   \n",
       "112                                  Great for short hair      1378684800   \n",
       "113                                                 Great      1355529600   \n",
       "114                                    Better than others      1300838400   \n",
       "115                           Good quality for the price.      1370304000   \n",
       "116                                      Works very well.      1388188800   \n",
       "117     Best curling iron I've found but don't turn it...      1255305600   \n",
       "118                                            In love :)      1367193600   \n",
       "125                                 So Good, I Bought Two      1273708800   \n",
       "132                                   Used it only twice!      1360108800   \n",
       "146                                             Loved it!      1346025600   \n",
       "...                                                   ...             ...   \n",
       "198390                                         Five Stars      1404345600   \n",
       "198391                         rapidly working on my skin      1404777600   \n",
       "198406                                        magic serum      1405296000   \n",
       "198407                          Lots of good ingredients!      1404432000   \n",
       "198419                                         nice cream      1405296000   \n",
       "198428                                 Nice natural mask!      1404259200   \n",
       "198431        Thick rich and very nourishing weekly mask!      1404345600   \n",
       "198434                                     very nice mask      1405296000   \n",
       "198439                                Friendly sleep mask      1405555200   \n",
       "198440                                These work great...      1405296000   \n",
       "198441                                         Works well      1405728000   \n",
       "198442                           I finally slept soundly!      1405555200   \n",
       "198443                       Very useful anyplace you go!      1405728000   \n",
       "198444           Effective solution for getting to sleep.      1405641600   \n",
       "198445                            To a good nights sleep.      1405382400   \n",
       "198446                                        Bad Product      1404864000   \n",
       "198447                                       Not satisfed      1404432000   \n",
       "198449                                       Disappointed      1404691200   \n",
       "198454                                 Terrific product!!      1396569600   \n",
       "198471  superb pigmentation and matte but extremely dr...      1400889600   \n",
       "198474                             Such a beautiful color      1398297600   \n",
       "198482                       For a wonderful nights sleep      1404777600   \n",
       "198485  Great Vitamin C, Hyaluronic Acid serum for you...      1405641600   \n",
       "198486                                  Love the product.      1405641600   \n",
       "198488                                     Great Results!      1405814400   \n",
       "198489  This is a nice product that smells good and le...      1405814400   \n",
       "198490                                            Love it      1405641600   \n",
       "198491                  Seeing results in just a few uses      1405728000   \n",
       "198493                    I am so happy with this product      1405900800   \n",
       "198495                              Panacea for Old Faces      1405641600   \n",
       "\n",
       "                                               reviewText   helpful  \\\n",
       "0       very oily and creamy. not at all what i expect...    [3, 4]   \n",
       "1       this palette was a decent price and i was look...    [1, 1]   \n",
       "3       i really can't tell what exactly this thing is...    [2, 2]   \n",
       "19      i haven't been a big fan of prada's fragrances...  [24, 24]   \n",
       "21      this is the first fragrance by prada that i lo...    [1, 1]   \n",
       "24      i'm very picky when it comes to fragrance. i l...    [1, 1]   \n",
       "37      my hair is fine like a baby's and rather thin....    [2, 3]   \n",
       "42      rather than leaving my hair softer and more ma...    [3, 3]   \n",
       "46      with the inevitable hormonal changes, my hair ...    [7, 8]   \n",
       "47      6/8/2013, first review: i thought to review th...    [3, 4]   \n",
       "52      this stuff makes your hair feel thicker after ...   [8, 10]   \n",
       "59      i bought this for my husband's bathroom and he...    [4, 4]   \n",
       "67      this is the second better living classic dispe...    [7, 9]   \n",
       "70      i bought this because i was sick of tripping o...  [17, 20]   \n",
       "71      i have the smallest bathroom known to man.  it...    [1, 1]   \n",
       "78      i bought a similar type of dispenser back in 1...  [11, 14]   \n",
       "85      wonderful product. paired with a little exfoli...    [1, 1]   \n",
       "92      i've been using this creme for about 20 years ...    [1, 1]   \n",
       "96      this hand cream has one of the nicest fragranc...    [1, 1]   \n",
       "111     i didn't expect too much when i purchased this...    [1, 1]   \n",
       "112     the 1/2&#34; barrel is perfect for styling sho...    [1, 1]   \n",
       "113     this came quick and packaged just like i bough...    [1, 1]   \n",
       "114                                                         [7, 10]   \n",
       "115     the iron heats up quickly and seems to be good...    [1, 1]   \n",
       "116     this curling iron works so well and i'm so gla...    [1, 1]   \n",
       "117     i am the kind of person who will splurge on co...  [75, 78]   \n",
       "118     so in love with my conair curling iron. i have...    [1, 1]   \n",
       "125     true to its name, this curling iron heats up f...    [1, 1]   \n",
       "132     i absolutely love this conair instant heat cur...    [3, 3]   \n",
       "146     this is the first curling iron i ever used.. a...    [2, 2]   \n",
       "...                                                   ...       ...   \n",
       "198390  amazing! i almost don't recognize my great aun...    [1, 1]   \n",
       "198391  the redness and roughness of my skin has reduc...    [1, 1]   \n",
       "198406  great serum with all the nice ingredients, vit...    [1, 1]   \n",
       "198407  this is like vitamins for the skin! feels grea...    [1, 1]   \n",
       "198419  its a high quality cream, the packaging is ver...    [1, 1]   \n",
       "198428  this is a pretty decent vitamin c mask. some m...    [1, 1]   \n",
       "198431  beautifully packaged and very light, barely th...    [1, 1]   \n",
       "198434  we live in a toxic world. every day our skin i...    [1, 1]   \n",
       "198439  all i'd known in sleep masks is what they give...    [2, 2]   \n",
       "198440  i need complete darkness to sleep.  as soon as...    [3, 3]   \n",
       "198441  this comfortable sleep mask has a plushy insid...    [2, 2]   \n",
       "198442  i've had a hard time sleeping for the last two...    [4, 4]   \n",
       "198443  you can use this to sleep well through the nig...    [1, 1]   \n",
       "198444  very nice, useful in moving trains/planes or e...    [2, 2]   \n",
       "198445  this is my first time using a sleep mask and i...    [3, 3]   \n",
       "198446  this is a horrible product, most of the review...  [10, 11]   \n",
       "198447  i bought this for my wife, as she loves using ...    [5, 6]   \n",
       "198449  got this a week ago and i'm really disappointe...  [11, 12]   \n",
       "198454  this product is used to benefit and help reple...  [52, 52]   \n",
       "198471  because of all the hype, i decided to try the ...    [5, 5]   \n",
       "198474  i feel like i could pierce a man's soul while ...  [10, 10]   \n",
       "198482  i use a few drop in the bath and also on my pi...    [1, 1]   \n",
       "198485  feels amazing on my skin. love how easy the pu...    [1, 1]   \n",
       "198486  enjoying this product a lot! i've noticed the ...    [1, 1]   \n",
       "198488  since i have been using this product i noticed...    [2, 2]   \n",
       "198489  this is a nice product that smells good and le...    [1, 1]   \n",
       "198490  feels great. i already notice a difference aft...    [1, 1]   \n",
       "198491  i used this serum 3 times so far, using it twi...    [1, 1]   \n",
       "198493  i am so happy with this product. i have extrem...    [1, 1]   \n",
       "198495  holy smokes i learn a lot from some of these p...    [2, 2]   \n",
       "\n",
       "                                            reviewerName  \\\n",
       "0                                                 Andrea   \n",
       "1                                             Jessica H.   \n",
       "3                                                  Norah   \n",
       "19                                              armygirl   \n",
       "21                                                 Nikki   \n",
       "24                                              Ellie B.   \n",
       "37                                               Blondie   \n",
       "42                                              Fati1981   \n",
       "46                                             jjjjordan   \n",
       "47                                       Kristina Montes   \n",
       "52                                            S. TIERNAN   \n",
       "59                         Ana Luiza Welch \"TIPSY GIPSY\"   \n",
       "67                                     JP \"byaaah!!!!!!\"   \n",
       "70                                            Legal&Sane   \n",
       "71                                      L. McMahon \"lpm\"   \n",
       "78                                   VIDFAN \"specfellow\"   \n",
       "85                                             Angela R.   \n",
       "92                                               Jaybird   \n",
       "96                                            PT Cruiser   \n",
       "111                                           B. Colonna   \n",
       "112                                             Bookworm   \n",
       "113                                               Brandi   \n",
       "114                                                Candy   \n",
       "115                                           Capcyclone   \n",
       "116                                            Cat lover   \n",
       "117                                             Chandler   \n",
       "118                                         College Kid!   \n",
       "125                                              emmejay   \n",
       "132                                                 Lynz   \n",
       "146                                                 Sara   \n",
       "...                                                  ...   \n",
       "198390                                   Dylan Milbourne   \n",
       "198391                                        JOX MONTES   \n",
       "198406                                                RS   \n",
       "198407                                            Sammie   \n",
       "198419                                                RS   \n",
       "198428                                   eyeused2loveher   \n",
       "198431                                      Karinna Ball   \n",
       "198434                                                RS   \n",
       "198439                                      Citizen John   \n",
       "198440                       Dr. Oceanfront \"Oceanfront\"   \n",
       "198441                                    Margaret Picky   \n",
       "198442  *~*Mary*~* \"Follow me on Facebook at Miss Mar...   \n",
       "198443                                 Natosha S. Miller   \n",
       "198444                                               rpv   \n",
       "198445                                            Tamera   \n",
       "198446                                               NaN   \n",
       "198447                                               NaN   \n",
       "198449                                     Cathy Juntura   \n",
       "198454                                 Natosha S. Miller   \n",
       "198471                                         christine   \n",
       "198474                                      Marie Esther   \n",
       "198482                                             Robyn   \n",
       "198485                  Ann Ingersoll Madison Rain \"Ann\"   \n",
       "198486                                            A Rich   \n",
       "198488                                           Cher S.   \n",
       "198489                                           Heather   \n",
       "198490                                      Jon Davidson   \n",
       "198491                                 Joyce M. Davidson   \n",
       "198493                                              soha   \n",
       "198495                       Candy Cane \"Is it just me?\"   \n",
       "\n",
       "                                         reviewText_clean  helpful_rate  \\\n",
       "0       very oily and creamy not at all what i expecte...      0.750000   \n",
       "1       this palette was a decent price and i was look...      1.000000   \n",
       "3       i really cant tell what exactly this thing is ...      1.000000   \n",
       "19      i havent been a big fan of pradas fragrances o...      1.000000   \n",
       "21      this is the first fragrance by prada that i lo...      1.000000   \n",
       "24      im very picky when it comes to fragrance i lov...      1.000000   \n",
       "37      my hair is fine like a babys and rather thin  ...      0.666667   \n",
       "42      rather than leaving my hair softer and more ma...      1.000000   \n",
       "46      with the inevitable hormonal changes my hair s...      0.875000   \n",
       "47       first review i thought to review this product...      0.750000   \n",
       "52      this stuff makes your hair feel thicker after ...      0.800000   \n",
       "59      i bought this for my husbands bathroom and he ...      1.000000   \n",
       "67      this is the second better living classic dispe...      0.777778   \n",
       "70      i bought this because i was sick of tripping o...      0.850000   \n",
       "71      i have the smallest bathroom known to man  its...      1.000000   \n",
       "78      i bought a similar type of dispenser back in  ...      0.785714   \n",
       "85      wonderful product paired with a little exfolia...      1.000000   \n",
       "92      ive been using this creme for about  years now...      1.000000   \n",
       "96      this hand cream has one of the nicest fragranc...      1.000000   \n",
       "111     i didnt expect too much when i purchased this ...      1.000000   \n",
       "112     the  barrel is perfect for styling short hair ...      1.000000   \n",
       "113     this came quick and packaged just like i bough...      1.000000   \n",
       "114                                                            0.700000   \n",
       "115     the iron heats up quickly and seems to be good...      1.000000   \n",
       "116     this curling iron works so well and im so glad...      1.000000   \n",
       "117     i am the kind of person who will splurge on co...      0.961538   \n",
       "118     so in love with my conair curling iron i have ...      1.000000   \n",
       "125     true to its name this curling iron heats up fa...      1.000000   \n",
       "132     i absolutely love this conair instant heat cur...      1.000000   \n",
       "146     this is the first curling iron i ever used and...      1.000000   \n",
       "...                                                   ...           ...   \n",
       "198390  amazing i almost dont recognize my great aunt ...      1.000000   \n",
       "198391  the redness and roughness of my skin has reduc...      1.000000   \n",
       "198406  great serum with all the nice ingredients vit ...      1.000000   \n",
       "198407  this is like vitamins for the skin feels great...      1.000000   \n",
       "198419  its a high quality cream the packaging is very...      1.000000   \n",
       "198428  this is a pretty decent vitamin c mask some ma...      1.000000   \n",
       "198431  beautifully packaged and very light barely the...      1.000000   \n",
       "198434  we live in a toxic world every day our skin is...      1.000000   \n",
       "198439  all id known in sleep masks is what they give ...      1.000000   \n",
       "198440  i need complete darkness to sleep  as soon as ...      1.000000   \n",
       "198441  this comfortable sleep mask has a plushy insid...      1.000000   \n",
       "198442  ive had a hard time sleeping for the last two ...      1.000000   \n",
       "198443  you can use this to sleep well through the nig...      1.000000   \n",
       "198444  very nice useful in moving trainsplanes or eve...      1.000000   \n",
       "198445  this is my first time using a sleep mask and i...      1.000000   \n",
       "198446  this is a horrible product most of the reviews...      0.909091   \n",
       "198447  i bought this for my wife as she loves using n...      0.833333   \n",
       "198449  got this a week ago and im really disappointed...      0.916667   \n",
       "198454  this product is used to benefit and help reple...      1.000000   \n",
       "198471  because of all the hype i decided to try the v...      1.000000   \n",
       "198474  i feel like i could pierce a mans soul while w...      1.000000   \n",
       "198482  i use a few drop in the bath and also on my pi...      1.000000   \n",
       "198485  feels amazing on my skin love how easy the pum...      1.000000   \n",
       "198486  enjoying this product a lot ive noticed the th...      1.000000   \n",
       "198488  since i have been using this product i noticed...      1.000000   \n",
       "198489  this is a nice product that smells good and le...      1.000000   \n",
       "198490  feels great i already notice a difference afte...      1.000000   \n",
       "198491  i used this serum  times so far using it twice...      1.000000   \n",
       "198493  i am so happy with this product i have extreme...      1.000000   \n",
       "198495  holy smokes i learn a lot from some of these p...      1.000000   \n",
       "\n",
       "        sentiment_labels  sentiment_score  \n",
       "0                      0                0  \n",
       "1                      0                1  \n",
       "3                      0                1  \n",
       "19                     1                1  \n",
       "21                     1                1  \n",
       "24                     1                1  \n",
       "37                     1                1  \n",
       "42                     0                1  \n",
       "46                     1                1  \n",
       "47                     1                1  \n",
       "52                     0                1  \n",
       "59                     1                1  \n",
       "67                     0                1  \n",
       "70                     1                1  \n",
       "71                     1                1  \n",
       "78                     0                0  \n",
       "85                     1                1  \n",
       "92                     1                1  \n",
       "96                     1                1  \n",
       "111                    1                1  \n",
       "112                    1                1  \n",
       "113                    1                1  \n",
       "114                    0                0  \n",
       "115                    1                1  \n",
       "116                    1                1  \n",
       "117                    1                1  \n",
       "118                    1                1  \n",
       "125                    1                1  \n",
       "132                    0                1  \n",
       "146                    1                1  \n",
       "...                  ...              ...  \n",
       "198390                 1                1  \n",
       "198391                 1                1  \n",
       "198406                 1                1  \n",
       "198407                 1                1  \n",
       "198419                 1                1  \n",
       "198428                 1                0  \n",
       "198431                 1                1  \n",
       "198434                 1                1  \n",
       "198439                 1                1  \n",
       "198440                 1                1  \n",
       "198441                 1                1  \n",
       "198442                 1                1  \n",
       "198443                 1                1  \n",
       "198444                 1                1  \n",
       "198445                 1                1  \n",
       "198446                 0                0  \n",
       "198447                 0                0  \n",
       "198449                 0                0  \n",
       "198454                 1                1  \n",
       "198471                 0                1  \n",
       "198474                 1                1  \n",
       "198482                 1                1  \n",
       "198485                 1                1  \n",
       "198486                 1                1  \n",
       "198488                 1                1  \n",
       "198489                 1                1  \n",
       "198490                 1                1  \n",
       "198491                 1                1  \n",
       "198493                 1                1  \n",
       "198495                 1                0  \n",
       "\n",
       "[58941 rows x 13 columns]"
      ]
     },
     "execution_count": 42,
     "metadata": {},
     "output_type": "execute_result"
    }
   ],
   "source": [
    "helpful_reviews"
   ]
  },
  {
   "cell_type": "code",
   "execution_count": 43,
   "metadata": {
    "collapsed": true
   },
   "outputs": [],
   "source": [
    "X_train, X_test, y_train, y_test = train_test_split(helpful_reviews.reviewText_clean,helpful_reviews.sentiment_labels, test_size=.2, random_state=42)"
   ]
  },
  {
   "cell_type": "markdown",
   "metadata": {},
   "source": [
    "# Multinomial NB + CountVectorizer (helpful reviews)"
   ]
  },
  {
   "cell_type": "code",
   "execution_count": 44,
   "metadata": {
    "collapsed": true
   },
   "outputs": [],
   "source": [
    "count_vec = CountVectorizer()\n",
    "X_train_count = count_vec.fit_transform(X_train)\n",
    "X_test_count = count_vec.transform(X_test)"
   ]
  },
  {
   "cell_type": "code",
   "execution_count": 45,
   "metadata": {
    "collapsed": false
   },
   "outputs": [
    {
     "data": {
      "text/plain": [
       "MultinomialNB(alpha=1.0, class_prior=None, fit_prior=True)"
      ]
     },
     "execution_count": 45,
     "metadata": {},
     "output_type": "execute_result"
    }
   ],
   "source": [
    "# Create an instance of the Naive Bayes class \n",
    "clf_helpful = MultinomialNB()\n",
    "# Call fit method\n",
    "clf_helpful.fit(X_train_count, y_train)"
   ]
  },
  {
   "cell_type": "code",
   "execution_count": 46,
   "metadata": {
    "collapsed": false,
    "scrolled": true
   },
   "outputs": [
    {
     "name": "stdout",
     "output_type": "stream",
     "text": [
      "Multinomial NB: The precision on the test data is 84.46%\n",
      "Multinomial NB: The recall on the test data is 97.39%\n",
      "Multinomial NB: The F1 on the test data is 90.47%\n"
     ]
    }
   ],
   "source": [
    "precision = precision_score(y_true=y_test,\n",
    "              y_pred=clf_helpful.predict(X_test_count))\n",
    "\n",
    "print(\"Multinomial NB: The precision on the test data is {:.2%}\".format(precision))\n",
    "recall = recall_score(y_true=y_test,\n",
    "                      y_pred=clf_helpful.predict(X_test_count))\n",
    "\n",
    "print(\"Multinomial NB: The recall on the test data is {:.2%}\".format(recall))\n",
    "f1 = f1_score(y_true=y_test,\n",
    "              y_pred=clf_helpful.predict(X_test_count))\n",
    "print(\"Multinomial NB: The F1 on the test data is {:.2%}\".format(f1))"
   ]
  },
  {
   "cell_type": "markdown",
   "metadata": {},
   "source": [
    "> Scores on all-reviews: \n",
    "\n",
    "> Multinomial NB: The precision on the test data is 87.08%\n",
    "\n",
    "> Multinomial NB: The recall on the test data is 95.08%\n",
    "\n",
    "> Multinomial NB: The F1 on the test data is 90.91%"
   ]
  },
  {
   "cell_type": "markdown",
   "metadata": {},
   "source": [
    "# Multinomial NB + tf-idf (helpful reviews)"
   ]
  },
  {
   "cell_type": "code",
   "execution_count": 47,
   "metadata": {
    "collapsed": true
   },
   "outputs": [],
   "source": [
    "tfidf_vec = TfidfVectorizer(stop_words='english')\n",
    "X_train_count = tfidf_vec.fit_transform(X_train)\n",
    "X_test_count = tfidf_vec.transform(X_test)"
   ]
  },
  {
   "cell_type": "code",
   "execution_count": 48,
   "metadata": {
    "collapsed": false
   },
   "outputs": [
    {
     "data": {
      "text/plain": [
       "MultinomialNB(alpha=1.0, class_prior=None, fit_prior=True)"
      ]
     },
     "execution_count": 48,
     "metadata": {},
     "output_type": "execute_result"
    }
   ],
   "source": [
    "clf_helpful_tfidf = MultinomialNB()\n",
    "clf_helpful_tfidf.fit(X_train_count, y_train)"
   ]
  },
  {
   "cell_type": "code",
   "execution_count": 49,
   "metadata": {
    "collapsed": false,
    "scrolled": true
   },
   "outputs": [
    {
     "name": "stdout",
     "output_type": "stream",
     "text": [
      "Multinomial NB: The precision on the test data is 78.42%\n",
      "Multinomial NB: The recall on the test data is 99.99%\n",
      "Multinomial NB: The F1 on the test data is 87.90%\n"
     ]
    }
   ],
   "source": [
    "precision = precision_score(y_true=y_test,\n",
    "              y_pred=clf_helpful_tfidf.predict(X_test_count))\n",
    "\n",
    "print(\"Multinomial NB: The precision on the test data is {:.2%}\".format(precision))\n",
    "recall = recall_score(y_true=y_test,\n",
    "                      y_pred=clf_helpful_tfidf.predict(X_test_count))\n",
    "\n",
    "print(\"Multinomial NB: The recall on the test data is {:.2%}\".format(recall))\n",
    "f1 = f1_score(y_true=y_test,\n",
    "              y_pred=clf_helpful_tfidf.predict(X_test_count))\n",
    "print(\"Multinomial NB: The F1 on the test data is {:.2%}\".format(f1))"
   ]
  },
  {
   "cell_type": "code",
   "execution_count": 50,
   "metadata": {
    "collapsed": true
   },
   "outputs": [],
   "source": [
    "lr1_helpful = LogisticRegression(penalty='l1')\n",
    "lr2_helpful = LogisticRegression(penalty='l2')"
   ]
  },
  {
   "cell_type": "code",
   "execution_count": 51,
   "metadata": {
    "collapsed": false
   },
   "outputs": [
    {
     "name": "stderr",
     "output_type": "stream",
     "text": [
      "/Users/helloaoi/anaconda/lib/python3.5/site-packages/sklearn/utils/deprecation.py:70: DeprecationWarning: Function transform is deprecated; Support to use estimators as feature selectors will be removed in version 0.19. Use SelectFromModel instead.\n",
      "  warnings.warn(msg, category=DeprecationWarning)\n"
     ]
    },
    {
     "data": {
      "text/plain": [
       "<47152x1448 sparse matrix of type '<class 'numpy.float64'>'\n",
       "\twith 1200572 stored elements in Compressed Sparse Column format>"
      ]
     },
     "execution_count": 51,
     "metadata": {},
     "output_type": "execute_result"
    }
   ],
   "source": [
    "lr1.fit_transform(X_train_count, y_train)"
   ]
  },
  {
   "cell_type": "code",
   "execution_count": 52,
   "metadata": {
    "collapsed": false
   },
   "outputs": [
    {
     "name": "stderr",
     "output_type": "stream",
     "text": [
      "/Users/helloaoi/anaconda/lib/python3.5/site-packages/sklearn/utils/deprecation.py:70: DeprecationWarning: Function transform is deprecated; Support to use estimators as feature selectors will be removed in version 0.19. Use SelectFromModel instead.\n",
      "  warnings.warn(msg, category=DeprecationWarning)\n"
     ]
    },
    {
     "data": {
      "text/plain": [
       "<47152x21872 sparse matrix of type '<class 'numpy.float64'>'\n",
       "\twith 1731839 stored elements in Compressed Sparse Column format>"
      ]
     },
     "execution_count": 52,
     "metadata": {},
     "output_type": "execute_result"
    }
   ],
   "source": [
    "lr2.fit_transform(X_train_count, y_train)"
   ]
  },
  {
   "cell_type": "markdown",
   "metadata": {},
   "source": [
    "# Lasso Regression (helpful reviews)"
   ]
  },
  {
   "cell_type": "code",
   "execution_count": 53,
   "metadata": {
    "collapsed": false
   },
   "outputs": [
    {
     "name": "stdout",
     "output_type": "stream",
     "text": [
      "The precision score is 0.8773519163763066\n",
      "The recall score is 0.9534783079086877\n",
      "The f1 score is 0.913832434674409\n"
     ]
    }
   ],
   "source": [
    "print(\"The precision score is {}\".format(precision_score(y_test, lr1.predict(X_test_count))))\n",
    "print(\"The recall score is {}\".format(recall_score(y_test, lr1.predict(X_test_count))))\n",
    "print(\"The f1 score is {}\".format(f1_score(y_test, lr1.predict(X_test_count))))"
   ]
  },
  {
   "cell_type": "markdown",
   "metadata": {},
   "source": [
    "# Ridge Regression (helpful reviews)"
   ]
  },
  {
   "cell_type": "code",
   "execution_count": 54,
   "metadata": {
    "collapsed": false,
    "scrolled": true
   },
   "outputs": [
    {
     "name": "stdout",
     "output_type": "stream",
     "text": [
      "The precision score is 0.8704065676309617\n",
      "The recall score is 0.9635399761982041\n",
      "The f1 score is 0.9146084724005135\n"
     ]
    }
   ],
   "source": [
    "print(\"The precision score is {}\".format(precision_score(y_test, lr2.predict(X_test_count))))\n",
    "print(\"The recall score is {}\".format(recall_score(y_test, lr2.predict(X_test_count))))\n",
    "print(\"The f1 score is {}\".format(f1_score(y_test, lr2.predict(X_test_count))))"
   ]
  },
  {
   "cell_type": "markdown",
   "metadata": {},
   "source": [
    "# TextBlob Sentiment Analysis NB (helpful reviews)"
   ]
  },
  {
   "cell_type": "code",
   "execution_count": 55,
   "metadata": {
    "collapsed": false,
    "scrolled": true
   },
   "outputs": [
    {
     "name": "stderr",
     "output_type": "stream",
     "text": [
      "/Users/helloaoi/anaconda/lib/python3.5/site-packages/ipykernel/__main__.py:1: SettingWithCopyWarning: \n",
      "A value is trying to be set on a copy of a slice from a DataFrame.\n",
      "Try using .loc[row_indexer,col_indexer] = value instead\n",
      "\n",
      "See the caveats in the documentation: http://pandas.pydata.org/pandas-docs/stable/indexing.html#indexing-view-versus-copy\n",
      "  if __name__ == '__main__':\n",
      "/Users/helloaoi/anaconda/lib/python3.5/site-packages/ipykernel/__main__.py:2: SettingWithCopyWarning: \n",
      "A value is trying to be set on a copy of a slice from a DataFrame.\n",
      "Try using .loc[row_indexer,col_indexer] = value instead\n",
      "\n",
      "See the caveats in the documentation: http://pandas.pydata.org/pandas-docs/stable/indexing.html#indexing-view-versus-copy\n",
      "  from ipykernel import kernelapp as app\n"
     ]
    }
   ],
   "source": [
    "helpful_reviews['sentiment_score'] = [TextBlob(i).sentiment.polarity for i in helpful_reviews.reviewText_clean]\n",
    "helpful_reviews['sentiment_score'] = [ 1 if sentiment > 0 else 0 for sentiment in helpful_reviews.sentiment_score]"
   ]
  },
  {
   "cell_type": "code",
   "execution_count": 56,
   "metadata": {
    "collapsed": true
   },
   "outputs": [],
   "source": [
    "X_test_polarity = [TextBlob(text).sentiment.polarity for text in X_test]\n",
    "y_pred = np.asarray([ 1 if polarity > 0 else 0 for polarity in X_test_polarity] )"
   ]
  },
  {
   "cell_type": "code",
   "execution_count": 57,
   "metadata": {
    "collapsed": false
   },
   "outputs": [
    {
     "name": "stdout",
     "output_type": "stream",
     "text": [
      "The precision score is 0.8195204832924297\n",
      "The recall score is 0.9393054203180785\n",
      "The f1 score is 0.8753339718707467\n"
     ]
    }
   ],
   "source": [
    "print(\"The precision score is {}\".format(precision_score(y_test, y_pred)))\n",
    "print(\"The recall score is {}\".format(recall_score(y_test, y_pred)))\n",
    "print(\"The f1 score is {}\".format(f1_score(y_test, y_pred)))"
   ]
  },
  {
   "cell_type": "code",
   "execution_count": 58,
   "metadata": {
    "collapsed": true
   },
   "outputs": [],
   "source": [
    "train = zip(X_train, y_train)"
   ]
  },
  {
   "cell_type": "code",
   "execution_count": 59,
   "metadata": {
    "collapsed": true
   },
   "outputs": [],
   "source": [
    "tbnb = NaiveBayesClassifier(train)"
   ]
  },
  {
   "cell_type": "code",
   "execution_count": 60,
   "metadata": {
    "collapsed": true
   },
   "outputs": [],
   "source": [
    "y_pred = [tbnb.classify(review) for review in X_test]"
   ]
  },
  {
   "cell_type": "code",
   "execution_count": 61,
   "metadata": {
    "collapsed": false
   },
   "outputs": [
    {
     "name": "stdout",
     "output_type": "stream",
     "text": [
      "The precision score is 0.784035965730766\n",
      "The recall score is 1.0\n",
      "The f1 score is 0.8789463674400914\n"
     ]
    }
   ],
   "source": [
    "print(\"The precision score is {}\".format(precision_score(y_test, y_pred)))\n",
    "print(\"The recall score is {}\".format(recall_score(y_test, y_pred)))\n",
    "print(\"The f1 score is {}\".format(f1_score(y_test, y_pred)))"
   ]
  },
  {
   "cell_type": "markdown",
   "metadata": {},
   "source": [
    ">Sentiment analysis on helpful reviews data yields slightly more precision than sentiment analysis on all data."
   ]
  },
  {
   "cell_type": "markdown",
   "metadata": {},
   "source": [
    "## Topic Modelling"
   ]
  },
  {
   "cell_type": "code",
   "execution_count": 140,
   "metadata": {
    "collapsed": false,
    "scrolled": true
   },
   "outputs": [
    {
     "name": "stdout",
     "output_type": "stream",
     "text": [
      "Topics in LDA model:\n",
      "Topic #1:\n",
      "gems hydralight blendable sculpting regrets sauve seventh resealable duration worki digging scheduled easter preserving sweetness sable needling craving ysl allday\n",
      "Topic #2:\n",
      "hair product skin like use great love really good just using color used face nice does dont shampoo dry little\n",
      "Topic #3:\n",
      "stones smokey blossom extract sodium biased seed ingredients glycol hrs chloride phytoceramides glycerin toni ginseng dimethicone unilever alcohol edta tester\n",
      "Topic #4:\n",
      "colours ot productas pealing curlswaves shortterm instructional values da againit pleases plusthe arises wispies perfecter pa aswell rio lola moistens\n",
      "Topic #5:\n",
      "studs evaluation alpine vinylux flowing pumping massager prepare newbie seas freely flows balding quilted rules builtin songs dresses doesi attaches\n",
      "Topic #6:\n",
      "snaps cards spouse ftc accordance cfr turnoff scrapbooking lotionlike marbling endorsement station prodcut calmer iteam dads dudes circumference thingsi ahold\n",
      "Topic #7:\n",
      "creations settling volumize waaaay longi plastered spritzer relly tablet multitasking approve roche wonderfull tart productyou pefect handing posay bottleits aversion\n",
      "Topic #8:\n",
      "antidandruff butters services cider bummer poppy gloppy lessened josie pallette collections compensation dispensers channel enclosed frosted dor wearer maran guest\n",
      "Topic #9:\n",
      "razors files primers blade recomend circle town caviar garden fills extension discs buffer shaver canes disposables agreed gluten alterna realy\n",
      "Topic #10:\n",
      "receiving insta seche patterns mani vite zoya spiked luv pyrithione feelings client trendy kleancolor manis secured filed assemble drab hangs\n",
      "Topic #11:\n",
      "iron plates palette dryer curling flat heat clip hair clips curls curl straightener hot heats sponges settings rollers temperature curler\n",
      "Topic #12:\n",
      "stainless recipes aquamarine underarm steel mountains pearlized generate extender clicking necki tos whilei weigheddown revisit crocodile cleanserthe kissable filer secures\n",
      "Topic #13:\n",
      "shatter decoration stencils squares earrings stencil necklace slipped delivering shattered tidy contacting exceedingly facilitate military hug stopper verry eiermann katharena\n",
      "Topic #14:\n",
      "weighted multi cools pliable recycled donut inferior baggy ouncei weighty doubled metallics minutesi faves weddings tasty lick shaper countertop recomment\n",
      "Topic #15:\n",
      "organize overwhelm stack plucking dude scrubbies sisterinlaw rim windows niceit flocking meow wat entered baggies plucked piled confusion mowing residuethe\n",
      "\n"
     ]
    }
   ],
   "source": [
    "vectorizer = TfidfVectorizer(stop_words='english')\n",
    "\n",
    "tfidf = vectorizer.fit_transform(df.reviewText_clean)\n",
    "\n",
    "lda = LatentDirichletAllocation(n_topics=15,\n",
    "                                max_iter=5,\n",
    "                                learning_method='online',\n",
    "                                learning_offset=50.,\n",
    "                                random_state=42)\n",
    "lda.fit(tfidf)\n",
    "\n",
    "def print_top_words(model, feature_names, n_top_words=20):\n",
    "    for topic_n, topic in enumerate(model.components_, 1):\n",
    "        print(\"Topic #{}:\".format(topic_n))\n",
    "        print(\" \".join([feature_names[i]\n",
    "                        for i in topic.argsort()[:-n_top_words - 1:-1]]))\n",
    "    print()\n",
    "    \n",
    "\n",
    "print(\"Topics in LDA model:\")\n",
    "tf_feature_names = vectorizer.get_feature_names()\n",
    "print_top_words(lda, tf_feature_names)"
   ]
  },
  {
   "cell_type": "markdown",
   "metadata": {},
   "source": [
    "# Useful Topics\n",
    "\n",
    "Topic 2 = Colors:\n",
    "color colors love designs pink great like polish looks beautiful pretty look nail dark nice $\\textbf{shade}$ really $\\textbf{glitter}$ red perfect\n",
    "\n",
    "Topic 13 = Scents:\n",
    "cute perfume ok scent scents $\\textbf{cologne}$ def sponges $\\textbf{unique fragrance}$ towelettes ur smelled spraying $\\textbf{harmony}$ smell perfumes smelling lil holo\n",
    "\n",
    "Topic 11 = Eyelashes/Eyebrows:\n",
    "lashes $\\textbf{mascara}$ wig eyelashes glue lash eyeshadow look eyelash eyes mascaras brows $\\textbf{waterproof clump}$ clients false fake eyelids natural eye\n",
    "\n",
    "Topic 15 - Nails:\n",
    "nail nails polish coat great love gel use easy just product works good price really time like doing work colors\n",
    "\n",
    "Topic 6 = Hair Styling:\n",
    "hair use iron product great like brush flat conditioner plates really just $\\textbf{hold curly}$ dry long dryer curls fine good\n",
    "\n",
    "Topic 14 = Hair Treatment:\n",
    "hair shampoo conditioner scalp shampoos suave $\\textbf{dandruff conditioners}$ manageable soft leaves lather leave color $\\textbf{condition clean}$ damaged antidandruff left treated\n",
    "\n",
    "Topic 7 = Shipping:\n",
    "product price money order great shipping buy got ordered good happy $\\textbf{fast}$ love work came purchase seller $\\textbf{arrived}$ worth just\n",
    "\n",
    "Topic 8 = Packaging:\n",
    "$\\textbf{bag fits travel}$ purse size caress fit sun pouch carry $\\textbf{lightweight}$ burts bees bags sealed smaller containers whip providing win\n",
    "\n",
    "> This is useful to find what topics the consumers are interested in and the different segments of the beauty market, and it also can find buzzwords to help developing and advertising future products."
   ]
  },
  {
   "cell_type": "markdown",
   "metadata": {},
   "source": [
    "# Classification of Reviews by Rating"
   ]
  },
  {
   "cell_type": "markdown",
   "metadata": {},
   "source": [
    "## Linear Regression of Rating with tf-idf"
   ]
  },
  {
   "cell_type": "code",
   "execution_count": 196,
   "metadata": {
    "collapsed": true
   },
   "outputs": [],
   "source": [
    "X_train, X_test, y_train, y_test = train_test_split(df.reviewText_clean,df.overall, test_size=.2, random_state=42)"
   ]
  },
  {
   "cell_type": "code",
   "execution_count": 197,
   "metadata": {
    "collapsed": true
   },
   "outputs": [],
   "source": [
    "X_train_count = tfidf_vec.fit_transform(X_train)\n",
    "X_test_count = tfidf_vec.transform(X_test)"
   ]
  },
  {
   "cell_type": "code",
   "execution_count": 160,
   "metadata": {
    "collapsed": false
   },
   "outputs": [],
   "source": [
    "linreg = LinearRegression()"
   ]
  },
  {
   "cell_type": "code",
   "execution_count": 161,
   "metadata": {
    "collapsed": false
   },
   "outputs": [
    {
     "data": {
      "text/plain": [
       "LinearRegression(copy_X=True, fit_intercept=True, n_jobs=1, normalize=False)"
      ]
     },
     "execution_count": 161,
     "metadata": {},
     "output_type": "execute_result"
    }
   ],
   "source": [
    "linreg.fit(X_train_count, y_train)"
   ]
  },
  {
   "cell_type": "code",
   "execution_count": 162,
   "metadata": {
    "collapsed": false
   },
   "outputs": [],
   "source": [
    "y_pred = np.rint(linreg.predict(X_test_count))"
   ]
  },
  {
   "cell_type": "code",
   "execution_count": 180,
   "metadata": {
    "collapsed": false,
    "scrolled": false
   },
   "outputs": [
    {
     "name": "stdout",
     "output_type": "stream",
     "text": [
      "The precision score is 0.5087612356114667\n",
      "The recall score is 0.5771643031661671\n",
      "The f1 score is 0.4228795997635898\n"
     ]
    },
    {
     "name": "stderr",
     "output_type": "stream",
     "text": [
      "/Users/helloaoi/anaconda/lib/python3.5/site-packages/sklearn/metrics/classification.py:1113: UndefinedMetricWarning: Precision is ill-defined and being set to 0.0 in labels with no predicted samples.\n",
      "  'precision', 'predicted', average, warn_for)\n",
      "/Users/helloaoi/anaconda/lib/python3.5/site-packages/sklearn/metrics/classification.py:1113: UndefinedMetricWarning: F-score is ill-defined and being set to 0.0 in labels with no predicted samples.\n",
      "  'precision', 'predicted', average, warn_for)\n"
     ]
    }
   ],
   "source": [
    "print(\"The precision score is {}\".format(precision_score(y_test, y_pred, average=None)))\n",
    "print(\"The recall score is {}\".format(recall_score(y_test, y_pred, average=None)))\n",
    "print(\"The f1 score is {}\".format(f1_score(y_test, y_pred, average =None)))"
   ]
  },
  {
   "cell_type": "markdown",
   "metadata": {},
   "source": [
    "## Naive Bayes Text Classification by Rating with tf-idf"
   ]
  },
  {
   "cell_type": "code",
   "execution_count": 198,
   "metadata": {
    "collapsed": false
   },
   "outputs": [
    {
     "data": {
      "text/plain": [
       "MultinomialNB(alpha=1.0, class_prior=None, fit_prior=True)"
      ]
     },
     "execution_count": 198,
     "metadata": {},
     "output_type": "execute_result"
    }
   ],
   "source": [
    "clf3 = MultinomialNB()\n",
    "clf3.fit(X_train_count, y_train)"
   ]
  },
  {
   "cell_type": "code",
   "execution_count": 199,
   "metadata": {
    "collapsed": true
   },
   "outputs": [],
   "source": [
    "y_pred = clf3.predict(X_test_count)"
   ]
  },
  {
   "cell_type": "code",
   "execution_count": 187,
   "metadata": {
    "collapsed": false
   },
   "outputs": [
    {
     "data": {
      "text/plain": [
       "0.57691244459947444"
      ]
     },
     "execution_count": 187,
     "metadata": {},
     "output_type": "execute_result"
    }
   ],
   "source": [
    "cross_val_score(clf3, X_test_count, y_test, cv=5).mean()"
   ]
  },
  {
   "cell_type": "code",
   "execution_count": 175,
   "metadata": {
    "collapsed": false,
    "scrolled": true
   },
   "outputs": [
    {
     "name": "stdout",
     "output_type": "stream",
     "text": [
      "The precision score is 0.5562676469422954\n",
      "The recall score is 0.41558147149945845\n",
      "The f1 score is 0.4564243137243268\n"
     ]
    },
    {
     "name": "stderr",
     "output_type": "stream",
     "text": [
      "/Users/helloaoi/anaconda/lib/python3.5/site-packages/sklearn/metrics/classification.py:1115: UndefinedMetricWarning: Recall is ill-defined and being set to 0.0 in labels with no true samples.\n",
      "  'recall', 'true', average, warn_for)\n",
      "/Users/helloaoi/anaconda/lib/python3.5/site-packages/sklearn/metrics/classification.py:1115: UndefinedMetricWarning: F-score is ill-defined and being set to 0.0 in labels with no true samples.\n",
      "  'recall', 'true', average, warn_for)\n"
     ]
    }
   ],
   "source": [
    "print(\"The precision score is {}\".format(precision_score(y_test, y_pred, average=None)))\n",
    "print(\"The recall score is {}\".format(recall_score(y_test, y_pred, average=None)))\n",
    "print(\"The f1 score is {}\".format(f1_score(y_test, y_pred, average =None)))"
   ]
  },
  {
   "cell_type": "code",
   "execution_count": 1,
   "metadata": {
    "collapsed": false
   },
   "outputs": [
    {
     "ename": "NameError",
     "evalue": "name 'confusion_matrix' is not defined",
     "output_type": "error",
     "traceback": [
      "\u001b[0;31m---------------------------------------------------------------------------\u001b[0m",
      "\u001b[0;31mNameError\u001b[0m                                 Traceback (most recent call last)",
      "\u001b[0;32m<ipython-input-1-0d62d87ed609>\u001b[0m in \u001b[0;36m<module>\u001b[0;34m()\u001b[0m\n\u001b[0;32m----> 1\u001b[0;31m \u001b[0mcm_test\u001b[0m \u001b[0;34m=\u001b[0m \u001b[0mconfusion_matrix\u001b[0m\u001b[0;34m(\u001b[0m\u001b[0my_test\u001b[0m\u001b[0;34m,\u001b[0m \u001b[0my_pred\u001b[0m\u001b[0;34m)\u001b[0m\u001b[0;34m\u001b[0m\u001b[0m\n\u001b[0m\u001b[1;32m      2\u001b[0m show_confusion_matrix(cm_test,\n\u001b[1;32m      3\u001b[0m                      class_labels=[\"Negative\", \"Positive\"])\n",
      "\u001b[0;31mNameError\u001b[0m: name 'confusion_matrix' is not defined"
     ]
    }
   ],
   "source": [
    "cm_test = confusion_matrix(y_test, y_pred)\n",
    "show_confusion_matrix(cm_test,\n",
    "                     class_labels=[\"Negative\", \"Positive\"])"
   ]
  },
  {
   "cell_type": "code",
   "execution_count": null,
   "metadata": {
    "collapsed": true
   },
   "outputs": [],
   "source": []
  }
 ],
 "metadata": {
  "anaconda-cloud": {},
  "kernelspec": {
   "display_name": "Python [Root]",
   "language": "python",
   "name": "Python [Root]"
  },
  "language_info": {
   "codemirror_mode": {
    "name": "ipython",
    "version": 3
   },
   "file_extension": ".py",
   "mimetype": "text/x-python",
   "name": "python",
   "nbconvert_exporter": "python",
   "pygments_lexer": "ipython3",
   "version": "3.5.2"
  }
 },
 "nbformat": 4,
 "nbformat_minor": 0
}
