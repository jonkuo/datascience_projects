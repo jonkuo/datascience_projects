{
 "cells": [
  {
   "cell_type": "markdown",
   "metadata": {},
   "source": [
    "## History"
   ]
  },
  {
   "cell_type": "markdown",
   "metadata": {},
   "source": [
    "Givens rotation is a method to obtain the QR decomposition of a matrix.\n",
    "\n",
    "Givens rotation is a rotation in the plane spanned by two coordinates axes. Givens rotations are named after Wallace Givens, who introduced them to numerical analysts in the 1950s while he was working at Argonne National Laboratory.\n",
    "\n"
   ]
  },
  {
   "cell_type": "markdown",
   "metadata": {},
   "source": [
    "$ A\\vec{x}  = \\vec{b}$\n",
    "\n",
    "$ A = QR $\n",
    "\n",
    "$Q = Q_{k}Q_{k-1}Q_{k-2}...Q_{1}$, \n",
    "Q is the product of all Givens rotations.\n",
    "\n",
    "Since Q is orthogonal and symmetric:\n",
    "\n",
    "$Q^TA = R$\n",
    "\n",
    "$R\\vec{x} = Q^T\\vec{b}$"
   ]
  },
  {
   "cell_type": "markdown",
   "metadata": {},
   "source": [
    "$Q^TA = \\begin{bmatrix}cos(t) & -sin(t)\\\\sin(t) & cos(t)\\end{bmatrix}^T * \\begin{bmatrix} a\\\\b\\\\\\end{bmatrix} = \\begin{bmatrix} r\\\\0\\\\\\end{bmatrix}$"
   ]
  },
  {
   "cell_type": "markdown",
   "metadata": {},
   "source": [
    "## Pseudocode"
   ]
  },
  {
   "cell_type": "code",
   "execution_count": null,
   "metadata": {
    "collapsed": false
   },
   "outputs": [],
   "source": [
    "\"\"\"\n",
    "Q = I\n",
    "R = A \n",
    "    for j = i:n do\n",
    "        for i = m: -1: j+1 do\n",
    "                [c, s] = givens(r[i-1][j], r[i][j])\n",
    "                R = G(i, j, c, s).T*R\n",
    "                Q = Q*G(i, j, c, s)\n",
    "\"\"\""
   ]
  },
  {
   "cell_type": "code",
   "execution_count": 576,
   "metadata": {
    "collapsed": true
   },
   "outputs": [],
   "source": [
    "import numpy as np\n",
    "A = [[0.8147, 0.0975, 0.1576], \n",
    "     [0.9058, 0.2785, 0.9706],\n",
    "     [0.1270, 0.5469, 0.9572],\n",
    "     [0.9134, 0.9575, 0.4854],\n",
    "     [0.6324, 0.9649, 0.8003]]"
   ]
  },
  {
   "cell_type": "markdown",
   "metadata": {},
   "source": [
    "s = sin(t), c = cos(t)"
   ]
  },
  {
   "cell_type": "code",
   "execution_count": 577,
   "metadata": {
    "collapsed": true
   },
   "outputs": [],
   "source": [
    "def cs(A, i, j): \n",
    "    r = np.hypot(A[i-1][j], A[i][j]) #find hypotenuse between two points in A\n",
    "    s = A[i][j]/r #find sin(t) for the bottom point\n",
    "    c = A[i-1][j]/r #find cos(t) for the top point\n",
    "    \n",
    "    #because -s*A[i][j] + c*A[i-1][j] = 0, by convention we take c as positive if c is negative\n",
    "    #and preserve the relationship in the above equation by taking the inverse of s\n",
    "    if c < 0: \n",
    "        c = c*-1\n",
    "        s = s*-1\n",
    "    return c, s\n",
    "\n",
    "def g(c, s, shape, i):\n",
    "    Q = np.eye(shape) #create identity the same size of A\n",
    "    Q[i][i], Q[i][i-1], Q[i-1][i], Q[i-1][i-1] = c, s, -s, c #create any Givens rotation matrix given c,s \n",
    "    return Q\n",
    "\"\"\"\n",
    "First Givens rotation matrix:\n",
    "Q = [[1, 0, 0, 0, 0],\n",
    "    [0, 1, 0, 0, 0],\n",
    "    [0, 0, 1, 0, 0],\n",
    "    [0, 0, 0, cos(t), -sin(t)],\n",
    "    [0, 0, 0, sin(t), cos(t)]]\n",
    "    \n",
    "Second Givens rotation matrix:\n",
    "Q = [[1, 0, 0, 0, 0],\n",
    "    [0, 1, 0, 0, 0],\n",
    "    [0, 0, cos(t), -sin(t), 0],\n",
    "    [0, 0, sin(t), cos(t), 0],\n",
    "    [0, 0, 0, 0, 1]]\n",
    "\"\"\"\n",
    "\n",
    "def givens(A): \n",
    "    shape = np.shape(A) #get row and size of A\n",
    "    Q = np.eye(shape[0]) #initialize Q as an identity with shape of the number of rows in A\n",
    "    R = A #initialize R as A\n",
    "    for j in range(shape[1]): #for every column of A\n",
    "        for i in range(shape[0]-1, j, -1): #for every row in A, counting backwards\n",
    "            c, s = cs(R, i, j) #get c and s from previous R in the ith and jth column\n",
    "            G = g(c, s, shape[0], i) #get Givens rotation matrix\n",
    "            R = np.dot(np.transpose(G), R) #build R\n",
    "            \"\"\"\n",
    "            First R matrix:\n",
    "            [[0.8147, 0.0975, 0.1576],\n",
    "            [0.9058, 0.2785, 0.9706],\n",
    "            [0.1270, 0.5469, 0.9572],\n",
    "            [1.1109, 1.3365, 0.8546],\n",
    "            [0, 0.2483, 0.3817]]\n",
    "            \n",
    "            Second R matrix:\n",
    "            [[0.8147, 0.0975, 0.1576],\n",
    "            [0.9058, 0.2785, 0.9706],\n",
    "            [1.1181, 1.3899, 0.9578],\n",
    "            [0, −0.3916, −0.8539],\n",
    "            [0, 0.2483, 0.3817]]\n",
    "            \"\"\"\n",
    "            Q = np.dot(Q, G) #multiply all Givens rotations to build final Q\n",
    "    \n",
    "    return Q,R"
   ]
  },
  {
   "cell_type": "code",
   "execution_count": 578,
   "metadata": {
    "collapsed": false
   },
   "outputs": [
    {
     "data": {
      "text/plain": [
       "(array([[ 0.49266686, -0.48066784,  0.17795345, -0.70325697,  0.        ],\n",
       "        [ 0.54775702, -0.35834917, -0.57774357,  0.48246545,  0.07062287],\n",
       "        [ 0.07679967,  0.47543202, -0.63432053, -0.4316598 , -0.42352507],\n",
       "        [ 0.5523529 ,  0.33905494,  0.48084552,  0.27688497, -0.5216036 ],\n",
       "        [ 0.38242607,  0.54731202,  0.03114461, -0.09829173,  0.73727105]]),\n",
       " array([[  1.65365294e+00,   1.14046791e+00,   1.25697758e+00],\n",
       "        [  1.00339337e-16,   9.66094882e-01,   6.34107648e-01],\n",
       "        [  6.47944833e-17,  -1.77623163e-17,  -8.81556607e-01],\n",
       "        [  8.89699270e-18,  -2.59025629e-17,  -3.04244395e-17],\n",
       "        [  5.72488704e-19,   7.07168360e-18,  -9.14512140e-18]]))"
      ]
     },
     "execution_count": 578,
     "metadata": {},
     "output_type": "execute_result"
    }
   ],
   "source": [
    "givens(A)"
   ]
  },
  {
   "cell_type": "code",
   "execution_count": 586,
   "metadata": {
    "collapsed": false
   },
   "outputs": [
    {
     "data": {
      "text/plain": [
       "(array([[-0.49266686, -0.48066784,  0.17795345],\n",
       "        [-0.54775702, -0.35834917, -0.57774357],\n",
       "        [-0.07679967,  0.47543202, -0.63432053],\n",
       "        [-0.5523529 ,  0.33905494,  0.48084552],\n",
       "        [-0.38242607,  0.54731202,  0.03114461]]),\n",
       " array([[-1.65365294, -1.14046791, -1.25697758],\n",
       "        [ 0.        ,  0.96609488,  0.63410765],\n",
       "        [ 0.        ,  0.        , -0.88155661]]))"
      ]
     },
     "execution_count": 586,
     "metadata": {},
     "output_type": "execute_result"
    }
   ],
   "source": [
    "from numpy import linalg\n",
    "linalg.qr(A)"
   ]
  },
  {
   "cell_type": "code",
   "execution_count": 580,
   "metadata": {
    "collapsed": false,
    "scrolled": true
   },
   "outputs": [],
   "source": [
    "Q, R = givens(A)"
   ]
  },
  {
   "cell_type": "code",
   "execution_count": 581,
   "metadata": {
    "collapsed": false,
    "scrolled": false
   },
   "outputs": [
    {
     "name": "stdout",
     "output_type": "stream",
     "text": [
      "[[ 0.8147  0.0975  0.1576]\n",
      " [ 0.9058  0.2785  0.9706]\n",
      " [ 0.127   0.5469  0.9572]\n",
      " [ 0.9134  0.9575  0.4854]\n",
      " [ 0.6324  0.9649  0.8003]]\n",
      "\n",
      "[[0.8147, 0.0975, 0.1576], [0.9058, 0.2785, 0.9706], [0.127, 0.5469, 0.9572], [0.9134, 0.9575, 0.4854], [0.6324, 0.9649, 0.8003]]\n"
     ]
    }
   ],
   "source": [
    "QR = np.dot(Q,R) #this shows the decomposition is true for A\n",
    "print(QR)\n",
    "print()\n",
    "print(A)"
   ]
  },
  {
   "cell_type": "code",
   "execution_count": 582,
   "metadata": {
    "collapsed": false,
    "scrolled": true
   },
   "outputs": [
    {
     "data": {
      "text/plain": [
       "array([[ 1.,  0.,  0.,  0.,  0.],\n",
       "       [ 0.,  1.,  0.,  0.,  0.],\n",
       "       [ 0.,  0.,  1.,  0.,  0.],\n",
       "       [ 0.,  0.,  0.,  1.,  0.],\n",
       "       [ 0.,  0.,  0.,  0.,  1.]])"
      ]
     },
     "execution_count": 582,
     "metadata": {},
     "output_type": "execute_result"
    }
   ],
   "source": [
    "eps = 1.0E-10\n",
    "Q_T = np.transpose(Q) #shows Q is symmetric\n",
    "identity = np.dot(Q, Q_T)\n",
    "low_values_indices_identity = identity < eps\n",
    "identity[low_values_indices_identity] = 0\n",
    "identity"
   ]
  },
  {
   "cell_type": "code",
   "execution_count": 583,
   "metadata": {
    "collapsed": false,
    "scrolled": true
   },
   "outputs": [
    {
     "name": "stdout",
     "output_type": "stream",
     "text": [
      "[[  1.65365294e+00   1.14046791e+00   1.25697758e+00]\n",
      " [  1.96850987e-16   9.66094882e-01   6.34107648e-01]\n",
      " [  5.26452123e-17   1.37436624e-16  -8.81556607e-01]\n",
      " [  5.47781621e-17  -1.58710662e-17   7.75335271e-17]\n",
      " [ -9.17113024e-17  -7.61167359e-17  -3.61970943e-18]]\n",
      "\n",
      "[[  1.65365294e+00   1.14046791e+00   1.25697758e+00]\n",
      " [  1.00339337e-16   9.66094882e-01   6.34107648e-01]\n",
      " [  6.47944833e-17  -1.77623163e-17  -8.81556607e-01]\n",
      " [  8.89699270e-18  -2.59025629e-17  -3.04244395e-17]\n",
      " [  5.72488704e-19   7.07168360e-18  -9.14512140e-18]]\n"
     ]
    }
   ],
   "source": [
    "print(np.dot(Q_T, A)) #this shows Q.T*A = R\n",
    "print()\n",
    "print(R)"
   ]
  }
 ],
 "metadata": {
  "anaconda-cloud": {},
  "kernelspec": {
   "display_name": "Python [Root]",
   "language": "python",
   "name": "Python [Root]"
  },
  "language_info": {
   "codemirror_mode": {
    "name": "ipython",
    "version": 3
   },
   "file_extension": ".py",
   "mimetype": "text/x-python",
   "name": "python",
   "nbconvert_exporter": "python",
   "pygments_lexer": "ipython3",
   "version": "3.5.2"
  }
 },
 "nbformat": 4,
 "nbformat_minor": 0
}
